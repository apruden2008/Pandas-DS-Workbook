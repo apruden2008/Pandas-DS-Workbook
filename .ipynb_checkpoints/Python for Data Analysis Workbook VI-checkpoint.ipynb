{
 "cells": [
  {
   "cell_type": "markdown",
   "metadata": {},
   "source": [
    "# Python for Data Analysis Workbook 6 (Time Series)"
   ]
  },
  {
   "cell_type": "markdown",
   "metadata": {},
   "source": [
    "### Preliminaries"
   ]
  },
  {
   "cell_type": "code",
   "execution_count": 3,
   "metadata": {},
   "outputs": [],
   "source": [
    "import numpy as np\n",
    "import pandas as pd\n",
    "from datetime import datetime"
   ]
  },
  {
   "cell_type": "markdown",
   "metadata": {},
   "source": [
    "#### Note on Time-Series\n",
    "\n",
    "Time-series data may either be *fixed frequency* or *irregular* <br>\n",
    "\n",
    "How you mark and refer to the time series data depends on the application and you may have one of the following: <br>\n",
    "\n",
    "1) ***Timestamps*** or specific instants in time <br>\n",
    "2) ***Periods*** that are already delineated like month of January, year 2010, etc. <br>\n",
    "3) ***Intervals*** of time that are indicated by a start/end timestamp <br>\n",
    "4) ***Elapsed Time*** where each timestamp is a measure of time relative to a particular start time"
   ]
  },
  {
   "cell_type": "markdown",
   "metadata": {},
   "source": [
    "### Date and Time Data Types and Tools"
   ]
  },
  {
   "cell_type": "code",
   "execution_count": 12,
   "metadata": {},
   "outputs": [
    {
     "name": "stdout",
     "output_type": "stream",
     "text": [
      "2020-07-02 22:55:14.420593\n",
      "[2020, 7, 2]\n",
      "\n",
      "\n",
      "926 days, 15:45:00\n",
      "\n",
      "\n",
      "[926, 56700]\n"
     ]
    }
   ],
   "source": [
    "# Python standard library includes data types for date and time data as well as calendar-related functionality\n",
    "\n",
    "print(datetime.now())\n",
    "now = datetime.now()\n",
    "\n",
    "print([now.year, now.month, now.day])\n",
    "print('\\n')\n",
    "# Can also calculate temporal difference using timedelta\n",
    "\n",
    "delta = datetime(2011, 1, 7) - datetime(2008, 6, 24, 8, 15)\n",
    "print(delta)\n",
    "print('\\n')\n",
    "print([delta.days, delta.seconds])"
   ]
  },
  {
   "cell_type": "code",
   "execution_count": 15,
   "metadata": {},
   "outputs": [
    {
     "data": {
      "text/plain": [
       "datetime.datetime(2011, 1, 19, 0, 0)"
      ]
     },
     "execution_count": 15,
     "metadata": {},
     "output_type": "execute_result"
    }
   ],
   "source": [
    "# Can use timedelta to shift a series \n",
    "\n",
    "from datetime import timedelta\n",
    "\n",
    "start = datetime(2011, 1, 7)\n",
    "\n",
    "start + timedelta(12)"
   ]
  },
  {
   "cell_type": "markdown",
   "metadata": {},
   "source": [
    "#### Converting between Strings and Datetime"
   ]
  },
  {
   "cell_type": "code",
   "execution_count": 17,
   "metadata": {},
   "outputs": [
    {
     "data": {
      "text/plain": [
       "'2011-01-03 00:00:00'"
      ]
     },
     "execution_count": 17,
     "metadata": {},
     "output_type": "execute_result"
    }
   ],
   "source": [
    "# String --> DateTime\n",
    "\n",
    "stamp = datetime(2011, 1, 3)\n",
    "str(stamp)"
   ]
  },
  {
   "cell_type": "code",
   "execution_count": 19,
   "metadata": {},
   "outputs": [
    {
     "data": {
      "text/plain": [
       "'2011-01-03'"
      ]
     },
     "execution_count": 19,
     "metadata": {},
     "output_type": "execute_result"
    }
   ],
   "source": [
    "# Datetime --> String\n",
    "\n",
    "stamp.strftime('%Y-%m-%d') # Need to provide a format based on codes"
   ]
  },
  {
   "cell_type": "markdown",
   "metadata": {},
   "source": [
    "**Codes**\n",
    "\n",
    "%Y - four-digit year <br>\n",
    "%y - two-digit year <br>\n",
    "%m - two-digit month <br>\n",
    "%d - two-digit day <br>\n",
    "%H - Hour, military time <br>\n",
    "%I - Hour, regular time <br>\n",
    "%M - two-digit minute <br>\n",
    "%s - second (60 & 61 account for leap seconds) <br>\n",
    "%w - weekday as integer (starting with Sunday = 0 <br>\n",
    "%W - week number <br>\n",
    "%z - UTC time <br>\n",
    "%a - abbreviated weekday name <br>\n",
    "%A - full weekday name <br>\n",
    "%b - abbreviated month name <br>\n",
    "%B - full month name <br>\n",
    "%c - full date and time <br>\n",
    "%p - local equivalent of am/pm <br>\n",
    "%x - locale-appropriate formatted date <br>\n",
    "%X - locale-appropriate formatted time <br>\n",
    "%F - shortcut for %Y-%m-%d <br>\n",
    "%D - shortcut for %m/%d/%y <br>"
   ]
  },
  {
   "cell_type": "code",
   "execution_count": 28,
   "metadata": {},
   "outputs": [
    {
     "name": "stdout",
     "output_type": "stream",
     "text": [
      "2011-01-03 00:00:00\n",
      "\n",
      "\n",
      "2011-01-03 00:00:00\n",
      "\n",
      "\n",
      "2011-12-06 00:00:00\n"
     ]
    }
   ],
   "source": [
    "# String --> Datetime (using strptime())\n",
    "\n",
    "value = '2011-01-03'\n",
    "print(datetime.strptime(value, '%Y-%m-%d'))\n",
    "print('\\n')\n",
    "\n",
    "# Can also just use the parse method from dateutil library, which can parse most human-readable date represenations\n",
    "\n",
    "from dateutil.parser import parse\n",
    "print(parse(value))\n",
    "print('\\n')\n",
    "print(parse('6/12/2011', dayfirst = True))"
   ]
  },
  {
   "cell_type": "code",
   "execution_count": 31,
   "metadata": {},
   "outputs": [
    {
     "data": {
      "text/plain": [
       "DatetimeIndex(['2011-07-06 12:00:00', '2011-08-06 00:00:00'], dtype='datetime64[ns]', freq=None)"
      ]
     },
     "execution_count": 31,
     "metadata": {},
     "output_type": "execute_result"
    }
   ],
   "source": [
    "# Another way to convert to datetime, use pandas to_datetime method\n",
    "\n",
    "datestrs = ['2011-07-06 12:00:00', '2011-08-06 00:00:00']\n",
    "\n",
    "pd.to_datetime(datestrs)"
   ]
  },
  {
   "cell_type": "markdown",
   "metadata": {},
   "source": [
    "### Time Series Basics"
   ]
  },
  {
   "cell_type": "code",
   "execution_count": 38,
   "metadata": {},
   "outputs": [
    {
     "name": "stdout",
     "output_type": "stream",
     "text": [
      "2011-01-02    0.145210\n",
      "2011-01-05   -0.323280\n",
      "2011-01-07    2.043052\n",
      "2011-01-08    1.159492\n",
      "2011-01-10    0.803376\n",
      "2011-01-12   -0.525725\n",
      "dtype: float64\n"
     ]
    },
    {
     "data": {
      "text/plain": [
       "DatetimeIndex(['2011-01-02', '2011-01-05', '2011-01-07', '2011-01-08',\n",
       "               '2011-01-10', '2011-01-12'],\n",
       "              dtype='datetime64[ns]', freq=None)"
      ]
     },
     "execution_count": 38,
     "metadata": {},
     "output_type": "execute_result"
    }
   ],
   "source": [
    "dates = [datetime(2011, 1, 2), datetime(2011, 1, 5), datetime(2011, 1, 7), \n",
    "         datetime(2011, 1, 8), datetime(2011, 1, 10), datetime(2011, 1, 12)]\n",
    "\n",
    "ts = pd.Series(np.random.randn(6), index = dates)\n",
    "print(ts)\n",
    "\n",
    "ts.index"
   ]
  },
  {
   "cell_type": "code",
   "execution_count": 41,
   "metadata": {},
   "outputs": [
    {
     "data": {
      "text/plain": [
       "2011-01-02    0.290419\n",
       "2011-01-05         NaN\n",
       "2011-01-07    4.086105\n",
       "2011-01-08         NaN\n",
       "2011-01-10    1.606752\n",
       "2011-01-12         NaN\n",
       "dtype: float64"
      ]
     },
     "execution_count": 41,
     "metadata": {},
     "output_type": "execute_result"
    }
   ],
   "source": [
    "ts + ts[::2] # Selects every second element in the Timeseries"
   ]
  },
  {
   "cell_type": "code",
   "execution_count": 44,
   "metadata": {},
   "outputs": [
    {
     "data": {
      "text/plain": [
       "Timestamp('2011-01-02 00:00:00')"
      ]
     },
     "execution_count": 44,
     "metadata": {},
     "output_type": "execute_result"
    }
   ],
   "source": [
    "# Returns a Timestamp object, which can be substituted anywhere for a datetime but also stores frequency info\n",
    "\n",
    "ts.index[0] "
   ]
  },
  {
   "cell_type": "code",
   "execution_count": 45,
   "metadata": {},
   "outputs": [
    {
     "data": {
      "text/plain": [
       "0.1452095521005706"
      ]
     },
     "execution_count": 45,
     "metadata": {},
     "output_type": "execute_result"
    }
   ],
   "source": [
    "# Indexing works like any other pandas.Series and also can parse most date-like strings\n",
    "\n",
    "ts['1/2/11']"
   ]
  },
  {
   "cell_type": "code",
   "execution_count": 49,
   "metadata": {},
   "outputs": [
    {
     "name": "stdout",
     "output_type": "stream",
     "text": [
      "2000-01-01   -1.606889\n",
      "2000-01-02   -0.706294\n",
      "2000-01-03   -0.022372\n",
      "2000-01-04   -0.078844\n",
      "2000-01-05   -1.884789\n",
      "                ...   \n",
      "2002-09-22    1.117063\n",
      "2002-09-23   -0.721747\n",
      "2002-09-24   -0.956305\n",
      "2002-09-25    0.229228\n",
      "2002-09-26    0.365482\n",
      "Freq: D, Length: 1000, dtype: float64\n"
     ]
    },
    {
     "data": {
      "text/plain": [
       "2001-01-01   -0.466466\n",
       "2001-01-02   -0.255349\n",
       "2001-01-03    0.147402\n",
       "2001-01-04   -1.517411\n",
       "2001-01-05   -0.231846\n",
       "                ...   \n",
       "2001-12-27   -1.300224\n",
       "2001-12-28    1.610084\n",
       "2001-12-29   -0.691538\n",
       "2001-12-30    1.291405\n",
       "2001-12-31    0.193227\n",
       "Freq: D, Length: 365, dtype: float64"
      ]
     },
     "execution_count": 49,
     "metadata": {},
     "output_type": "execute_result"
    }
   ],
   "source": [
    "longer_ts = pd.Series(np.random.randn(1000), index = pd.date_range('1/1/2000', periods = 1000))\n",
    "print(longer_ts)\n",
    "\n",
    "longer_ts['2001']"
   ]
  },
  {
   "cell_type": "code",
   "execution_count": 55,
   "metadata": {},
   "outputs": [
    {
     "data": {
      "text/plain": [
       "2001-12-27   -1.300224\n",
       "2001-12-28    1.610084\n",
       "2001-12-29   -0.691538\n",
       "2001-12-30    1.291405\n",
       "2001-12-31    0.193227\n",
       "                ...   \n",
       "2002-09-22    1.117063\n",
       "2002-09-23   -0.721747\n",
       "2002-09-24   -0.956305\n",
       "2002-09-25    0.229228\n",
       "2002-09-26    0.365482\n",
       "Freq: D, Length: 274, dtype: float64"
      ]
     },
     "execution_count": 55,
     "metadata": {},
     "output_type": "execute_result"
    }
   ],
   "source": [
    "# Can also slice\n",
    "\n",
    "longer_ts['2001-12-27':]"
   ]
  },
  {
   "cell_type": "code",
   "execution_count": 57,
   "metadata": {},
   "outputs": [
    {
     "data": {
      "text/plain": [
       "2011-01-05   -0.323280\n",
       "2011-01-07    2.043052\n",
       "2011-01-08    1.159492\n",
       "dtype: float64"
      ]
     },
     "execution_count": 57,
     "metadata": {},
     "output_type": "execute_result"
    }
   ],
   "source": [
    "# Another way to select a date range is to use the truncate method\n",
    "\n",
    "ts.truncate(before = '1/3/2011', after = '1/9/2011')"
   ]
  },
  {
   "cell_type": "markdown",
   "metadata": {},
   "source": [
    "#### Time Series with Duplicate Indices"
   ]
  },
  {
   "cell_type": "code",
   "execution_count": 62,
   "metadata": {},
   "outputs": [
    {
     "name": "stdout",
     "output_type": "stream",
     "text": [
      "2000-01-01    0\n",
      "2000-01-02    1\n",
      "2000-01-02    2\n",
      "2000-01-02    3\n",
      "2000-01-03    4\n",
      "dtype: int64\n"
     ]
    },
    {
     "data": {
      "text/plain": [
       "True"
      ]
     },
     "execution_count": 62,
     "metadata": {},
     "output_type": "execute_result"
    }
   ],
   "source": [
    "dup_ts = pd.Series(np.arange(5), \n",
    "                   index = pd.DatetimeIndex(['1/1/2000', '1/2/2000', '1/2/2000', '1/2/2000', '1/3/2000']))\n",
    "\n",
    "print(dup_ts)\n",
    "dup_ts.is_unique\n"
   ]
  },
  {
   "cell_type": "code",
   "execution_count": 64,
   "metadata": {},
   "outputs": [
    {
     "data": {
      "text/plain": [
       "2000-01-01    1\n",
       "2000-01-02    3\n",
       "2000-01-03    1\n",
       "dtype: int64"
      ]
     },
     "execution_count": 64,
     "metadata": {},
     "output_type": "execute_result"
    }
   ],
   "source": [
    "# Can aggregate down using groupby\n",
    "\n",
    "dup_ts.groupby(level = 0).count() # groupby index "
   ]
  },
  {
   "cell_type": "markdown",
   "metadata": {},
   "source": [
    "### Date Ranges, Shifting, and Frequencies"
   ]
  },
  {
   "cell_type": "code",
   "execution_count": 77,
   "metadata": {},
   "outputs": [
    {
     "name": "stdout",
     "output_type": "stream",
     "text": [
      "DatetimeIndex(['2012-04-01', '2012-04-02', '2012-04-03', '2012-04-04',\n",
      "               '2012-04-05', '2012-04-06', '2012-04-07', '2012-04-08',\n",
      "               '2012-04-09', '2012-04-10', '2012-04-11', '2012-04-12',\n",
      "               '2012-04-13', '2012-04-14', '2012-04-15', '2012-04-16',\n",
      "               '2012-04-17', '2012-04-18', '2012-04-19', '2012-04-20',\n",
      "               '2012-04-21', '2012-04-22', '2012-04-23', '2012-04-24',\n",
      "               '2012-04-25', '2012-04-26', '2012-04-27', '2012-04-28',\n",
      "               '2012-04-29', '2012-04-30', '2012-05-01', '2012-05-02',\n",
      "               '2012-05-03', '2012-05-04', '2012-05-05', '2012-05-06',\n",
      "               '2012-05-07', '2012-05-08', '2012-05-09', '2012-05-10',\n",
      "               '2012-05-11', '2012-05-12', '2012-05-13', '2012-05-14',\n",
      "               '2012-05-15', '2012-05-16', '2012-05-17', '2012-05-18',\n",
      "               '2012-05-19', '2012-05-20', '2012-05-21', '2012-05-22',\n",
      "               '2012-05-23', '2012-05-24', '2012-05-25', '2012-05-26',\n",
      "               '2012-05-27', '2012-05-28', '2012-05-29', '2012-05-30',\n",
      "               '2012-05-31', '2012-06-01'],\n",
      "              dtype='datetime64[ns]', freq='D')\n"
     ]
    },
    {
     "data": {
      "text/plain": [
       "DatetimeIndex(['2012-04-01', '2012-04-02', '2012-04-03', '2012-04-04',\n",
       "               '2012-04-05', '2012-04-06', '2012-04-07', '2012-04-08',\n",
       "               '2012-04-09', '2012-04-10', '2012-04-11', '2012-04-12',\n",
       "               '2012-04-13', '2012-04-14', '2012-04-15', '2012-04-16',\n",
       "               '2012-04-17', '2012-04-18', '2012-04-19', '2012-04-20',\n",
       "               '2012-04-21', '2012-04-22', '2012-04-23', '2012-04-24',\n",
       "               '2012-04-25', '2012-04-26', '2012-04-27', '2012-04-28',\n",
       "               '2012-04-29', '2012-04-30', '2012-05-01', '2012-05-02',\n",
       "               '2012-05-03', '2012-05-04', '2012-05-05', '2012-05-06',\n",
       "               '2012-05-07', '2012-05-08', '2012-05-09', '2012-05-10',\n",
       "               '2012-05-11', '2012-05-12', '2012-05-13', '2012-05-14',\n",
       "               '2012-05-15', '2012-05-16', '2012-05-17', '2012-05-18',\n",
       "               '2012-05-19', '2012-05-20', '2012-05-21', '2012-05-22',\n",
       "               '2012-05-23', '2012-05-24', '2012-05-25', '2012-05-26',\n",
       "               '2012-05-27', '2012-05-28', '2012-05-29', '2012-05-30',\n",
       "               '2012-05-31', '2012-06-01'],\n",
       "              dtype='datetime64[ns]', freq='D')"
      ]
     },
     "execution_count": 77,
     "metadata": {},
     "output_type": "execute_result"
    }
   ],
   "source": [
    "# Generating a date range\n",
    "\n",
    "index = pd.date_range('2012-04-01', '2012-06-01')\n",
    "print(pd.date_range(start = '2012-04-01', periods = 62)) # equivalent\n",
    "index"
   ]
  },
  {
   "cell_type": "code",
   "execution_count": 79,
   "metadata": {},
   "outputs": [
    {
     "data": {
      "text/plain": [
       "DatetimeIndex(['2000-01-31', '2000-02-29', '2000-03-31', '2000-04-28',\n",
       "               '2000-05-31', '2000-06-30', '2000-07-31', '2000-08-31',\n",
       "               '2000-09-29', '2000-10-31', '2000-11-30'],\n",
       "              dtype='datetime64[ns]', freq='BM')"
      ]
     },
     "execution_count": 79,
     "metadata": {},
     "output_type": "execute_result"
    }
   ],
   "source": [
    "# Can pass in custom frequencies\n",
    "\n",
    "pd.date_range('2000-01-01', '2000-12-01', freq = 'BM')"
   ]
  },
  {
   "cell_type": "code",
   "execution_count": 81,
   "metadata": {},
   "outputs": [
    {
     "data": {
      "text/plain": [
       "DatetimeIndex(['2012-05-02', '2012-05-03', '2012-05-04', '2012-05-05',\n",
       "               '2012-05-06'],\n",
       "              dtype='datetime64[ns]', freq='D')"
      ]
     },
     "execution_count": 81,
     "metadata": {},
     "output_type": "execute_result"
    }
   ],
   "source": [
    "# Can also normalize time data by setting the normalize argument to True\n",
    "\n",
    "pd.date_range('2012-05-02 12:56:31', periods = 5, normalize = True)"
   ]
  },
  {
   "cell_type": "code",
   "execution_count": 84,
   "metadata": {},
   "outputs": [
    {
     "name": "stdout",
     "output_type": "stream",
     "text": [
      "DatetimeIndex(['2000-01-01 00:00:00', '2000-01-01 04:00:00',\n",
      "               '2000-01-01 08:00:00', '2000-01-01 12:00:00',\n",
      "               '2000-01-01 16:00:00', '2000-01-01 20:00:00',\n",
      "               '2000-01-02 00:00:00'],\n",
      "              dtype='datetime64[ns]', freq='4H')\n"
     ]
    },
    {
     "data": {
      "text/plain": [
       "DatetimeIndex(['2000-01-01 00:00:00', '2000-01-01 01:30:00',\n",
       "               '2000-01-01 03:00:00', '2000-01-01 04:30:00',\n",
       "               '2000-01-01 06:00:00', '2000-01-01 07:30:00',\n",
       "               '2000-01-01 09:00:00', '2000-01-01 10:30:00',\n",
       "               '2000-01-01 12:00:00', '2000-01-01 13:30:00',\n",
       "               '2000-01-01 15:00:00', '2000-01-01 16:30:00',\n",
       "               '2000-01-01 18:00:00', '2000-01-01 19:30:00',\n",
       "               '2000-01-01 21:00:00', '2000-01-01 22:30:00',\n",
       "               '2000-01-02 00:00:00'],\n",
       "              dtype='datetime64[ns]', freq='90T')"
      ]
     },
     "execution_count": 84,
     "metadata": {},
     "output_type": "execute_result"
    }
   ],
   "source": [
    "# Can also create custom frequencies by putting an integer beofre the base frequency\n",
    "\n",
    "print(pd.date_range('2000-01-01', '2000-01-02', freq = '4h'))\n",
    "\n",
    "pd.date_range('2000-01-01', '2000-01-02', freq = '1h30min')"
   ]
  },
  {
   "cell_type": "code",
   "execution_count": 86,
   "metadata": {},
   "outputs": [
    {
     "data": {
      "text/plain": [
       "[Timestamp('2012-01-20 00:00:00', freq='WOM-3FRI'),\n",
       " Timestamp('2012-02-17 00:00:00', freq='WOM-3FRI'),\n",
       " Timestamp('2012-03-16 00:00:00', freq='WOM-3FRI'),\n",
       " Timestamp('2012-04-20 00:00:00', freq='WOM-3FRI'),\n",
       " Timestamp('2012-05-18 00:00:00', freq='WOM-3FRI'),\n",
       " Timestamp('2012-06-15 00:00:00', freq='WOM-3FRI'),\n",
       " Timestamp('2012-07-20 00:00:00', freq='WOM-3FRI'),\n",
       " Timestamp('2012-08-17 00:00:00', freq='WOM-3FRI')]"
      ]
     },
     "execution_count": 86,
     "metadata": {},
     "output_type": "execute_result"
    }
   ],
   "source": [
    "# One useful frequency class is week of month\n",
    "\n",
    "rng = pd.date_range('2012-01-01', '2012-09-01', freq = 'WOM-3FRI')\n",
    "list(rng)"
   ]
  },
  {
   "cell_type": "code",
   "execution_count": 92,
   "metadata": {},
   "outputs": [
    {
     "name": "stdout",
     "output_type": "stream",
     "text": [
      "2000-01-31    0.220500\n",
      "2000-02-29    0.646986\n",
      "2000-03-31    0.085404\n",
      "2000-04-30    0.508564\n",
      "Freq: M, dtype: float64\n"
     ]
    },
    {
     "data": {
      "text/plain": [
       "2000-01-31         NaN\n",
       "2000-02-29         NaN\n",
       "2000-03-31    0.220500\n",
       "2000-04-30    0.646986\n",
       "Freq: M, dtype: float64"
      ]
     },
     "execution_count": 92,
     "metadata": {},
     "output_type": "execute_result"
    }
   ],
   "source": [
    "# Can easily shift data within a date range forward or backwards using the shift() method\n",
    "\n",
    "ts = pd.Series(np.abs(np.random.randn(4)), index = pd.date_range('1/1/2000', periods = 4, freq = 'M'))\n",
    "print(ts)\n",
    "\n",
    "ts.shift(2)\n",
    "# ts.shift(-2)"
   ]
  },
  {
   "cell_type": "code",
   "execution_count": 93,
   "metadata": {},
   "outputs": [
    {
     "data": {
      "text/plain": [
       "2000-01-31         NaN\n",
       "2000-02-29    1.934173\n",
       "2000-03-31   -0.867997\n",
       "2000-04-30    4.954780\n",
       "Freq: M, dtype: float64"
      ]
     },
     "execution_count": 93,
     "metadata": {},
     "output_type": "execute_result"
    }
   ],
   "source": [
    "# Common use of shift is to calculate percent changes\n",
    "\n",
    "ts / ts.shift(1) - 1"
   ]
  },
  {
   "cell_type": "code",
   "execution_count": 94,
   "metadata": {},
   "outputs": [
    {
     "data": {
      "text/plain": [
       "2000-03-31    0.220500\n",
       "2000-04-30    0.646986\n",
       "2000-05-31    0.085404\n",
       "2000-06-30    0.508564\n",
       "Freq: M, dtype: float64"
      ]
     },
     "execution_count": 94,
     "metadata": {},
     "output_type": "execute_result"
    }
   ],
   "source": [
    "# Naive shift only does the data, but passing in a frequency enables the index to shift as well\n",
    "\n",
    "ts.shift(2, freq = 'M')"
   ]
  },
  {
   "cell_type": "markdown",
   "metadata": {},
   "source": [
    "### Time-zone handling"
   ]
  },
  {
   "cell_type": "code",
   "execution_count": 97,
   "metadata": {},
   "outputs": [],
   "source": [
    "import pytz # special library for handling time zones"
   ]
  },
  {
   "cell_type": "code",
   "execution_count": 98,
   "metadata": {},
   "outputs": [
    {
     "data": {
      "text/plain": [
       "['US/Eastern', 'US/Hawaii', 'US/Mountain', 'US/Pacific', 'UTC']"
      ]
     },
     "execution_count": 98,
     "metadata": {},
     "output_type": "execute_result"
    }
   ],
   "source": [
    "pytz.common_timezones[-5:]"
   ]
  },
  {
   "cell_type": "code",
   "execution_count": 99,
   "metadata": {},
   "outputs": [
    {
     "data": {
      "text/plain": [
       "<DstTzInfo 'America/New_York' LMT-1 day, 19:04:00 STD>"
      ]
     },
     "execution_count": 99,
     "metadata": {},
     "output_type": "execute_result"
    }
   ],
   "source": [
    "# get timezone objet using .timezone\n",
    "pytz.timezone('America/New_York')"
   ]
  },
  {
   "cell_type": "code",
   "execution_count": 100,
   "metadata": {},
   "outputs": [
    {
     "data": {
      "text/plain": [
       "DatetimeIndex(['2012-03-09 09:30:00+00:00', '2012-03-10 09:30:00+00:00',\n",
       "               '2012-03-11 09:30:00+00:00', '2012-03-12 09:30:00+00:00',\n",
       "               '2012-03-13 09:30:00+00:00', '2012-03-14 09:30:00+00:00',\n",
       "               '2012-03-15 09:30:00+00:00', '2012-03-16 09:30:00+00:00',\n",
       "               '2012-03-17 09:30:00+00:00', '2012-03-18 09:30:00+00:00'],\n",
       "              dtype='datetime64[ns, UTC]', freq='D')"
      ]
     },
     "execution_count": 100,
     "metadata": {},
     "output_type": "execute_result"
    }
   ],
   "source": [
    "# Date ranges can be generated with an explicit timezone set (default is none)\n",
    "pd.date_range('3/9/2012 9:30', periods = 10, freq = 'D', tz = 'UTC')"
   ]
  },
  {
   "cell_type": "code",
   "execution_count": 102,
   "metadata": {},
   "outputs": [
    {
     "data": {
      "text/plain": [
       "2000-01-31 00:00:00+00:00    0.220500\n",
       "2000-02-29 00:00:00+00:00    0.646986\n",
       "2000-03-31 00:00:00+00:00    0.085404\n",
       "2000-04-30 00:00:00+00:00    0.508564\n",
       "Freq: M, dtype: float64"
      ]
     },
     "execution_count": 102,
     "metadata": {},
     "output_type": "execute_result"
    }
   ],
   "source": [
    "# Can go from naive to localize using the localize() method\n",
    "\n",
    "ts_utc = ts.tz_localize('UTC')\n",
    "ts_utc"
   ]
  },
  {
   "cell_type": "code",
   "execution_count": 103,
   "metadata": {},
   "outputs": [
    {
     "data": {
      "text/plain": [
       "2000-01-30 19:00:00-05:00    0.220500\n",
       "2000-02-28 19:00:00-05:00    0.646986\n",
       "2000-03-30 19:00:00-05:00    0.085404\n",
       "2000-04-29 20:00:00-04:00    0.508564\n",
       "Freq: M, dtype: float64"
      ]
     },
     "execution_count": 103,
     "metadata": {},
     "output_type": "execute_result"
    }
   ],
   "source": [
    "# Can be converted with the tz_convert() method\n",
    "\n",
    "ts_utc.tz_convert('America/New_York')"
   ]
  },
  {
   "cell_type": "code",
   "execution_count": 106,
   "metadata": {},
   "outputs": [
    {
     "name": "stdout",
     "output_type": "stream",
     "text": [
      "2011-03-12 04:00:00+00:00\n"
     ]
    },
    {
     "data": {
      "text/plain": [
       "Timestamp('2011-03-12 04:00:00+0300', tz='Europe/Moscow')"
      ]
     },
     "execution_count": 106,
     "metadata": {},
     "output_type": "execute_result"
    }
   ],
   "source": [
    "# In addition to date ranges, individual timestamps can be made time-zone aware\n",
    "\n",
    "stamp = pd.Timestamp('2011-03-12 04:00')\n",
    "stamp_utc = stamp.tz_localize('utc')\n",
    "print(stamp_utc)\n",
    "\n",
    "# Or pass a time zone directly into the Timestamp on creation\n",
    "\n",
    "pd.Timestamp('2011-03-12 04:00', tz = 'Europe/Moscow')"
   ]
  },
  {
   "cell_type": "code",
   "execution_count": 107,
   "metadata": {},
   "outputs": [
    {
     "data": {
      "text/plain": [
       "1299902400000000000"
      ]
     },
     "execution_count": 107,
     "metadata": {},
     "output_type": "execute_result"
    }
   ],
   "source": [
    "# all timestamp objects store the Unix timestamp value \n",
    "\n",
    "stamp_utc.value"
   ]
  },
  {
   "cell_type": "markdown",
   "metadata": {},
   "source": [
    "*Note, joining two different time zone series results in all being converted to UTC*"
   ]
  },
  {
   "cell_type": "markdown",
   "metadata": {},
   "source": [
    "### Periods and Period Arithmetic"
   ]
  },
  {
   "cell_type": "code",
   "execution_count": 108,
   "metadata": {},
   "outputs": [
    {
     "data": {
      "text/plain": [
       "Period('2007', 'A-DEC')"
      ]
     },
     "execution_count": 108,
     "metadata": {},
     "output_type": "execute_result"
    }
   ],
   "source": [
    "# Periods represent timespans like days, months, or quarters. Period class requires an integer and frequency\n",
    "\n",
    "p = pd.Period(2007, freq = 'A-DEC') # annual from first of month to last day in December (inclusive)\n",
    "p"
   ]
  },
  {
   "cell_type": "code",
   "execution_count": 109,
   "metadata": {},
   "outputs": [
    {
     "data": {
      "text/plain": [
       "Period('2012', 'A-DEC')"
      ]
     },
     "execution_count": 109,
     "metadata": {},
     "output_type": "execute_result"
    }
   ],
   "source": [
    "# Can easily shift periods using simple integer arithmetic\n",
    "\n",
    "p + 5"
   ]
  },
  {
   "cell_type": "code",
   "execution_count": 110,
   "metadata": {},
   "outputs": [
    {
     "data": {
      "text/plain": [
       "<7 * YearEnds: month=12>"
      ]
     },
     "execution_count": 110,
     "metadata": {},
     "output_type": "execute_result"
    }
   ],
   "source": [
    "# Difference of two periods is number of units between them\n",
    "\n",
    "a = pd.Period('2014', freq = 'A-DEC')\n",
    "a - p"
   ]
  },
  {
   "cell_type": "code",
   "execution_count": 113,
   "metadata": {},
   "outputs": [
    {
     "name": "stdout",
     "output_type": "stream",
     "text": [
      "PeriodIndex(['2000-01', '2000-02', '2000-03', '2000-04', '2000-05', '2000-06'], dtype='period[M]', freq='M')\n"
     ]
    },
    {
     "data": {
      "text/plain": [
       "2000-01    0.520244\n",
       "2000-02    0.401450\n",
       "2000-03    0.479894\n",
       "2000-04    0.040798\n",
       "2000-05   -1.399633\n",
       "2000-06   -1.075704\n",
       "Freq: M, dtype: float64"
      ]
     },
     "execution_count": 113,
     "metadata": {},
     "output_type": "execute_result"
    }
   ],
   "source": [
    "# Can construct ranges of periods using the period_range() function\n",
    "\n",
    "rng = pd.period_range('2000-01-01', '2000-06-30', freq = 'M')\n",
    "print(rng)\n",
    "\n",
    "# The PeriodIndex class stores a sequence of periods and can serve as an axis index for any pandas data structure\n",
    "\n",
    "pd.Series(np.random.randn(6), index = rng)"
   ]
  },
  {
   "cell_type": "code",
   "execution_count": 116,
   "metadata": {},
   "outputs": [
    {
     "data": {
      "text/plain": [
       "PeriodIndex(['2001Q3', '2002Q2', '2003Q3'], dtype='period[Q-DEC]', freq='Q-DEC')"
      ]
     },
     "execution_count": 116,
     "metadata": {},
     "output_type": "execute_result"
    }
   ],
   "source": [
    "# An array of strings can also be used to create an instance of the PeriodIndex class\n",
    "\n",
    "values = ['2001Q3', '2002Q2', '2003Q3']\n",
    "index = pd.PeriodIndex(values, freq = 'Q-DEC')\n",
    "index"
   ]
  },
  {
   "cell_type": "markdown",
   "metadata": {},
   "source": [
    "#### Period Frequency Conversion"
   ]
  },
  {
   "cell_type": "code",
   "execution_count": 119,
   "metadata": {},
   "outputs": [
    {
     "data": {
      "text/plain": [
       "Period('2007', 'A-DEC')"
      ]
     },
     "execution_count": 119,
     "metadata": {},
     "output_type": "execute_result"
    }
   ],
   "source": [
    "p = pd.Period('2007', freq = 'A-DEC') # annual period\n",
    "p # read as annual period for 2007 ending on the last day of December"
   ]
  },
  {
   "cell_type": "code",
   "execution_count": 120,
   "metadata": {},
   "outputs": [
    {
     "data": {
      "text/plain": [
       "Period('2007-01', 'M')"
      ]
     },
     "execution_count": 120,
     "metadata": {},
     "output_type": "execute_result"
    }
   ],
   "source": [
    "# use the asfreq() method to convert the frequency to a monthly period\n",
    "\n",
    "p.asfreq('M', how = 'start') # read first month of 2007 (January) ending last calendar day of the month"
   ]
  },
  {
   "cell_type": "code",
   "execution_count": 122,
   "metadata": {},
   "outputs": [
    {
     "data": {
      "text/plain": [
       "Period('2008', 'A-JUN')"
      ]
     },
     "execution_count": 122,
     "metadata": {},
     "output_type": "execute_result"
    }
   ],
   "source": [
    "# In converting from high -> low frequency, pandas determines the super-period automatically in reference to the \n",
    "# sub-period\n",
    "\n",
    "p = pd.Period('Aug-2007', 'M')\n",
    "p.asfreq('A-JUN') # actually in 2008 because the year-end mark is in June"
   ]
  },
  {
   "cell_type": "code",
   "execution_count": 128,
   "metadata": {},
   "outputs": [
    {
     "name": "stdout",
     "output_type": "stream",
     "text": [
      "2006    0.315369\n",
      "2007   -0.669793\n",
      "2008    1.857846\n",
      "2009   -0.577088\n",
      "Freq: A-DEC, dtype: float64\n",
      "\n",
      "\n",
      "2006-01    0.315369\n",
      "2007-01   -0.669793\n",
      "2008-01    1.857846\n",
      "2009-01   -0.577088\n",
      "Freq: M, dtype: float64\n"
     ]
    },
    {
     "data": {
      "text/plain": [
       "2006-12-29    0.315369\n",
       "2007-12-31   -0.669793\n",
       "2008-12-31    1.857846\n",
       "2009-12-31   -0.577088\n",
       "Freq: B, dtype: float64"
      ]
     },
     "execution_count": 128,
     "metadata": {},
     "output_type": "execute_result"
    }
   ],
   "source": [
    "# Entire PeriodIndex objects can be converted with the same semantics\n",
    "\n",
    "rng = pd.period_range('2006', '2009', freq = 'A-DEC')\n",
    "ts = pd.Series(np.random.randn(len(rng)), index = rng)\n",
    "print(ts)\n",
    "print('\\n')\n",
    "print(ts.asfreq('M', how = 'start'))\n",
    "ts.asfreq('B', how = 'end') # last business day of the year"
   ]
  },
  {
   "cell_type": "markdown",
   "metadata": {},
   "source": [
    "#### Quarterly Period Frequencies"
   ]
  },
  {
   "cell_type": "code",
   "execution_count": 130,
   "metadata": {},
   "outputs": [
    {
     "data": {
      "text/plain": [
       "Period('2012Q4', 'Q-JAN')"
      ]
     },
     "execution_count": 130,
     "metadata": {},
     "output_type": "execute_result"
    }
   ],
   "source": [
    "# Quarterly data is standard in accounting but is often referred to relative to an arbitrary fiscal year\n",
    "# Pandas can handle all possible quarterly frequencies though as below\n",
    "\n",
    "p = pd.Period('2012Q4', freq='Q-JAN')"
   ]
  },
  {
   "cell_type": "code",
   "execution_count": 132,
   "metadata": {},
   "outputs": [
    {
     "name": "stdout",
     "output_type": "stream",
     "text": [
      "2011-11-01\n",
      "2012-01-31\n"
     ]
    }
   ],
   "source": [
    "# See start and end\n",
    "\n",
    "print(p.asfreq('D', 's'))\n",
    "print(p.asfreq('D', 'end'))"
   ]
  },
  {
   "cell_type": "code",
   "execution_count": 137,
   "metadata": {},
   "outputs": [
    {
     "name": "stdout",
     "output_type": "stream",
     "text": [
      "2012-01-30 16:00\n"
     ]
    },
    {
     "data": {
      "text/plain": [
       "Timestamp('2012-01-30 16:00:00')"
      ]
     },
     "execution_count": 137,
     "metadata": {},
     "output_type": "execute_result"
    }
   ],
   "source": [
    "# Easy to do period arithmetic as in the below example, which gets a TS at 4pm on second-to-last bus. day of the qtr\n",
    "\n",
    "p4pm = (p.asfreq('B', 'e') - 1).asfreq('T', 's') + (16 * 60)\n",
    "print(p4pm)\n",
    "p4pm.to_timestamp()"
   ]
  },
  {
   "cell_type": "code",
   "execution_count": 139,
   "metadata": {},
   "outputs": [
    {
     "data": {
      "text/plain": [
       "2011Q3    0\n",
       "2011Q4    1\n",
       "2012Q1    2\n",
       "2012Q2    3\n",
       "2012Q3    4\n",
       "2012Q4    5\n",
       "Freq: Q-JAN, dtype: int64"
      ]
     },
     "execution_count": 139,
     "metadata": {},
     "output_type": "execute_result"
    }
   ],
   "source": [
    "# Can generate quarterly ranges using period_range.\n",
    "\n",
    "rng = pd.period_range('2011Q3', '2012Q4', freq = 'Q-JAN')\n",
    "ts = pd.Series(np.arange(len(rng)), index = rng)\n",
    "ts"
   ]
  },
  {
   "cell_type": "code",
   "execution_count": 142,
   "metadata": {},
   "outputs": [
    {
     "data": {
      "text/plain": [
       "2010-10-28 16:00:00    0\n",
       "2011-01-28 16:00:00    1\n",
       "2011-04-28 16:00:00    2\n",
       "2011-07-28 16:00:00    3\n",
       "2011-10-28 16:00:00    4\n",
       "2012-01-30 16:00:00    5\n",
       "dtype: int64"
      ]
     },
     "execution_count": 142,
     "metadata": {},
     "output_type": "execute_result"
    }
   ],
   "source": [
    "# Arithmetic is identical to the example shown above\n",
    "\n",
    "new_rng = (rng.asfreq('B', 'e') - 1).asfreq('T', 's') + (16 * 60)\n",
    "ts.index = new_rng.to_timestamp()\n",
    "ts"
   ]
  },
  {
   "cell_type": "markdown",
   "metadata": {},
   "source": [
    "#### Converting Timestamps to Periods (and back)"
   ]
  },
  {
   "cell_type": "code",
   "execution_count": 154,
   "metadata": {},
   "outputs": [
    {
     "name": "stdout",
     "output_type": "stream",
     "text": [
      "2001-01-31   -0.135723\n",
      "2001-02-28   -1.042507\n",
      "2001-03-31    0.538496\n",
      "Freq: M, dtype: float64\n"
     ]
    },
    {
     "data": {
      "text/plain": [
       "2001Q4   -0.135723\n",
       "2002Q1   -1.042507\n",
       "2002Q1    0.538496\n",
       "Freq: Q-JAN, dtype: float64"
      ]
     },
     "execution_count": 154,
     "metadata": {},
     "output_type": "execute_result"
    }
   ],
   "source": [
    "rng = pd.date_range('2001-01-01', periods = 3, freq='M')\n",
    "ts = pd.Series(np.random.randn(3), index = rng)\n",
    "print(ts)\n",
    "ts.to_period('Q-JAN', 'e') # Same frequency is inferred but can pass in custom frequency if desired"
   ]
  },
  {
   "cell_type": "code",
   "execution_count": 174,
   "metadata": {},
   "outputs": [
    {
     "data": {
      "text/plain": [
       "2001-01-31 00:00:59.999999999   -0.135723\n",
       "2001-02-28 00:00:59.999999999   -1.042507\n",
       "2001-03-31 00:00:59.999999999    0.538496\n",
       "Freq: M, dtype: float64"
      ]
     },
     "execution_count": 174,
     "metadata": {},
     "output_type": "execute_result"
    }
   ],
   "source": [
    "# and back to timestamps\n",
    "\n",
    "ts.to_period('T', 's').to_timestamp(how = 'end')"
   ]
  },
  {
   "cell_type": "markdown",
   "metadata": {},
   "source": [
    "#### Create PeriodIndex from Arrays"
   ]
  },
  {
   "cell_type": "code",
   "execution_count": 179,
   "metadata": {},
   "outputs": [
    {
     "data": {
      "text/html": [
       "<div>\n",
       "<style scoped>\n",
       "    .dataframe tbody tr th:only-of-type {\n",
       "        vertical-align: middle;\n",
       "    }\n",
       "\n",
       "    .dataframe tbody tr th {\n",
       "        vertical-align: top;\n",
       "    }\n",
       "\n",
       "    .dataframe thead th {\n",
       "        text-align: right;\n",
       "    }\n",
       "</style>\n",
       "<table border=\"1\" class=\"dataframe\">\n",
       "  <thead>\n",
       "    <tr style=\"text-align: right;\">\n",
       "      <th></th>\n",
       "      <th>year</th>\n",
       "      <th>quarter</th>\n",
       "      <th>realgdp</th>\n",
       "      <th>realcons</th>\n",
       "      <th>realinv</th>\n",
       "      <th>realgovt</th>\n",
       "      <th>realdpi</th>\n",
       "      <th>cpi</th>\n",
       "      <th>m1</th>\n",
       "      <th>tbilrate</th>\n",
       "      <th>unemp</th>\n",
       "      <th>pop</th>\n",
       "      <th>infl</th>\n",
       "      <th>realint</th>\n",
       "    </tr>\n",
       "  </thead>\n",
       "  <tbody>\n",
       "    <tr>\n",
       "      <th>0</th>\n",
       "      <td>1959.0</td>\n",
       "      <td>1.0</td>\n",
       "      <td>2710.349</td>\n",
       "      <td>1707.4</td>\n",
       "      <td>286.898</td>\n",
       "      <td>470.045</td>\n",
       "      <td>1886.9</td>\n",
       "      <td>28.98</td>\n",
       "      <td>139.7</td>\n",
       "      <td>2.82</td>\n",
       "      <td>5.8</td>\n",
       "      <td>177.146</td>\n",
       "      <td>0.00</td>\n",
       "      <td>0.00</td>\n",
       "    </tr>\n",
       "    <tr>\n",
       "      <th>1</th>\n",
       "      <td>1959.0</td>\n",
       "      <td>2.0</td>\n",
       "      <td>2778.801</td>\n",
       "      <td>1733.7</td>\n",
       "      <td>310.859</td>\n",
       "      <td>481.301</td>\n",
       "      <td>1919.7</td>\n",
       "      <td>29.15</td>\n",
       "      <td>141.7</td>\n",
       "      <td>3.08</td>\n",
       "      <td>5.1</td>\n",
       "      <td>177.830</td>\n",
       "      <td>2.34</td>\n",
       "      <td>0.74</td>\n",
       "    </tr>\n",
       "    <tr>\n",
       "      <th>2</th>\n",
       "      <td>1959.0</td>\n",
       "      <td>3.0</td>\n",
       "      <td>2775.488</td>\n",
       "      <td>1751.8</td>\n",
       "      <td>289.226</td>\n",
       "      <td>491.260</td>\n",
       "      <td>1916.4</td>\n",
       "      <td>29.35</td>\n",
       "      <td>140.5</td>\n",
       "      <td>3.82</td>\n",
       "      <td>5.3</td>\n",
       "      <td>178.657</td>\n",
       "      <td>2.74</td>\n",
       "      <td>1.09</td>\n",
       "    </tr>\n",
       "    <tr>\n",
       "      <th>3</th>\n",
       "      <td>1959.0</td>\n",
       "      <td>4.0</td>\n",
       "      <td>2785.204</td>\n",
       "      <td>1753.7</td>\n",
       "      <td>299.356</td>\n",
       "      <td>484.052</td>\n",
       "      <td>1931.3</td>\n",
       "      <td>29.37</td>\n",
       "      <td>140.0</td>\n",
       "      <td>4.33</td>\n",
       "      <td>5.6</td>\n",
       "      <td>179.386</td>\n",
       "      <td>0.27</td>\n",
       "      <td>4.06</td>\n",
       "    </tr>\n",
       "    <tr>\n",
       "      <th>4</th>\n",
       "      <td>1960.0</td>\n",
       "      <td>1.0</td>\n",
       "      <td>2847.699</td>\n",
       "      <td>1770.5</td>\n",
       "      <td>331.722</td>\n",
       "      <td>462.199</td>\n",
       "      <td>1955.5</td>\n",
       "      <td>29.54</td>\n",
       "      <td>139.6</td>\n",
       "      <td>3.50</td>\n",
       "      <td>5.2</td>\n",
       "      <td>180.007</td>\n",
       "      <td>2.31</td>\n",
       "      <td>1.19</td>\n",
       "    </tr>\n",
       "  </tbody>\n",
       "</table>\n",
       "</div>"
      ],
      "text/plain": [
       "     year  quarter   realgdp  realcons  realinv  realgovt  realdpi    cpi  \\\n",
       "0  1959.0      1.0  2710.349    1707.4  286.898   470.045   1886.9  28.98   \n",
       "1  1959.0      2.0  2778.801    1733.7  310.859   481.301   1919.7  29.15   \n",
       "2  1959.0      3.0  2775.488    1751.8  289.226   491.260   1916.4  29.35   \n",
       "3  1959.0      4.0  2785.204    1753.7  299.356   484.052   1931.3  29.37   \n",
       "4  1960.0      1.0  2847.699    1770.5  331.722   462.199   1955.5  29.54   \n",
       "\n",
       "      m1  tbilrate  unemp      pop  infl  realint  \n",
       "0  139.7      2.82    5.8  177.146  0.00     0.00  \n",
       "1  141.7      3.08    5.1  177.830  2.34     0.74  \n",
       "2  140.5      3.82    5.3  178.657  2.74     1.09  \n",
       "3  140.0      4.33    5.6  179.386  0.27     4.06  \n",
       "4  139.6      3.50    5.2  180.007  2.31     1.19  "
      ]
     },
     "execution_count": 179,
     "metadata": {},
     "output_type": "execute_result"
    }
   ],
   "source": [
    "# Sometimes fixed frequency datasets are stored with timespan info in multiple columns\n",
    "\n",
    "data = pd.read_csv('pydata-book/examples/macrodata.csv')\n",
    "data.head(5)"
   ]
  },
  {
   "cell_type": "code",
   "execution_count": 181,
   "metadata": {},
   "outputs": [
    {
     "data": {
      "text/plain": [
       "PeriodIndex(['1959Q1', '1959Q2', '1959Q3', '1959Q4', '1960Q1', '1960Q2',\n",
       "             '1960Q3', '1960Q4', '1961Q1', '1961Q2',\n",
       "             ...\n",
       "             '2007Q2', '2007Q3', '2007Q4', '2008Q1', '2008Q2', '2008Q3',\n",
       "             '2008Q4', '2009Q1', '2009Q2', '2009Q3'],\n",
       "            dtype='period[Q-DEC]', length=203, freq='Q-DEC')"
      ]
     },
     "execution_count": 181,
     "metadata": {},
     "output_type": "execute_result"
    }
   ],
   "source": [
    "# Convert multiple date columns into a single period index\n",
    "\n",
    "index = pd.PeriodIndex(year = data.year, quarter = data.quarter, freq = 'Q-DEC')\n",
    "index"
   ]
  },
  {
   "cell_type": "code",
   "execution_count": 182,
   "metadata": {},
   "outputs": [
    {
     "data": {
      "text/html": [
       "<div>\n",
       "<style scoped>\n",
       "    .dataframe tbody tr th:only-of-type {\n",
       "        vertical-align: middle;\n",
       "    }\n",
       "\n",
       "    .dataframe tbody tr th {\n",
       "        vertical-align: top;\n",
       "    }\n",
       "\n",
       "    .dataframe thead th {\n",
       "        text-align: right;\n",
       "    }\n",
       "</style>\n",
       "<table border=\"1\" class=\"dataframe\">\n",
       "  <thead>\n",
       "    <tr style=\"text-align: right;\">\n",
       "      <th></th>\n",
       "      <th>year</th>\n",
       "      <th>quarter</th>\n",
       "      <th>realgdp</th>\n",
       "      <th>realcons</th>\n",
       "      <th>realinv</th>\n",
       "      <th>realgovt</th>\n",
       "      <th>realdpi</th>\n",
       "      <th>cpi</th>\n",
       "      <th>m1</th>\n",
       "      <th>tbilrate</th>\n",
       "      <th>unemp</th>\n",
       "      <th>pop</th>\n",
       "      <th>infl</th>\n",
       "      <th>realint</th>\n",
       "    </tr>\n",
       "  </thead>\n",
       "  <tbody>\n",
       "    <tr>\n",
       "      <th>1959Q1</th>\n",
       "      <td>1959.0</td>\n",
       "      <td>1.0</td>\n",
       "      <td>2710.349</td>\n",
       "      <td>1707.4</td>\n",
       "      <td>286.898</td>\n",
       "      <td>470.045</td>\n",
       "      <td>1886.9</td>\n",
       "      <td>28.98</td>\n",
       "      <td>139.7</td>\n",
       "      <td>2.82</td>\n",
       "      <td>5.8</td>\n",
       "      <td>177.146</td>\n",
       "      <td>0.00</td>\n",
       "      <td>0.00</td>\n",
       "    </tr>\n",
       "    <tr>\n",
       "      <th>1959Q2</th>\n",
       "      <td>1959.0</td>\n",
       "      <td>2.0</td>\n",
       "      <td>2778.801</td>\n",
       "      <td>1733.7</td>\n",
       "      <td>310.859</td>\n",
       "      <td>481.301</td>\n",
       "      <td>1919.7</td>\n",
       "      <td>29.15</td>\n",
       "      <td>141.7</td>\n",
       "      <td>3.08</td>\n",
       "      <td>5.1</td>\n",
       "      <td>177.830</td>\n",
       "      <td>2.34</td>\n",
       "      <td>0.74</td>\n",
       "    </tr>\n",
       "    <tr>\n",
       "      <th>1959Q3</th>\n",
       "      <td>1959.0</td>\n",
       "      <td>3.0</td>\n",
       "      <td>2775.488</td>\n",
       "      <td>1751.8</td>\n",
       "      <td>289.226</td>\n",
       "      <td>491.260</td>\n",
       "      <td>1916.4</td>\n",
       "      <td>29.35</td>\n",
       "      <td>140.5</td>\n",
       "      <td>3.82</td>\n",
       "      <td>5.3</td>\n",
       "      <td>178.657</td>\n",
       "      <td>2.74</td>\n",
       "      <td>1.09</td>\n",
       "    </tr>\n",
       "    <tr>\n",
       "      <th>1959Q4</th>\n",
       "      <td>1959.0</td>\n",
       "      <td>4.0</td>\n",
       "      <td>2785.204</td>\n",
       "      <td>1753.7</td>\n",
       "      <td>299.356</td>\n",
       "      <td>484.052</td>\n",
       "      <td>1931.3</td>\n",
       "      <td>29.37</td>\n",
       "      <td>140.0</td>\n",
       "      <td>4.33</td>\n",
       "      <td>5.6</td>\n",
       "      <td>179.386</td>\n",
       "      <td>0.27</td>\n",
       "      <td>4.06</td>\n",
       "    </tr>\n",
       "    <tr>\n",
       "      <th>1960Q1</th>\n",
       "      <td>1960.0</td>\n",
       "      <td>1.0</td>\n",
       "      <td>2847.699</td>\n",
       "      <td>1770.5</td>\n",
       "      <td>331.722</td>\n",
       "      <td>462.199</td>\n",
       "      <td>1955.5</td>\n",
       "      <td>29.54</td>\n",
       "      <td>139.6</td>\n",
       "      <td>3.50</td>\n",
       "      <td>5.2</td>\n",
       "      <td>180.007</td>\n",
       "      <td>2.31</td>\n",
       "      <td>1.19</td>\n",
       "    </tr>\n",
       "  </tbody>\n",
       "</table>\n",
       "</div>"
      ],
      "text/plain": [
       "          year  quarter   realgdp  realcons  realinv  realgovt  realdpi  \\\n",
       "1959Q1  1959.0      1.0  2710.349    1707.4  286.898   470.045   1886.9   \n",
       "1959Q2  1959.0      2.0  2778.801    1733.7  310.859   481.301   1919.7   \n",
       "1959Q3  1959.0      3.0  2775.488    1751.8  289.226   491.260   1916.4   \n",
       "1959Q4  1959.0      4.0  2785.204    1753.7  299.356   484.052   1931.3   \n",
       "1960Q1  1960.0      1.0  2847.699    1770.5  331.722   462.199   1955.5   \n",
       "\n",
       "          cpi     m1  tbilrate  unemp      pop  infl  realint  \n",
       "1959Q1  28.98  139.7      2.82    5.8  177.146  0.00     0.00  \n",
       "1959Q2  29.15  141.7      3.08    5.1  177.830  2.34     0.74  \n",
       "1959Q3  29.35  140.5      3.82    5.3  178.657  2.74     1.09  \n",
       "1959Q4  29.37  140.0      4.33    5.6  179.386  0.27     4.06  \n",
       "1960Q1  29.54  139.6      3.50    5.2  180.007  2.31     1.19  "
      ]
     },
     "execution_count": 182,
     "metadata": {},
     "output_type": "execute_result"
    }
   ],
   "source": [
    "data.index = index\n",
    "data.head(5)"
   ]
  },
  {
   "cell_type": "markdown",
   "metadata": {},
   "source": [
    "### Resampling and Frequency Conversion"
   ]
  },
  {
   "cell_type": "code",
   "execution_count": 193,
   "metadata": {},
   "outputs": [
    {
     "name": "stdout",
     "output_type": "stream",
     "text": [
      "2000-01-01   -1.345676\n",
      "2000-01-02    1.664061\n",
      "2000-01-03   -0.775463\n",
      "2000-01-04   -0.062302\n",
      "2000-01-05   -0.298242\n",
      "                ...   \n",
      "2000-04-05   -0.432318\n",
      "2000-04-06   -0.269368\n",
      "2000-04-07    2.098294\n",
      "2000-04-08   -0.426513\n",
      "2000-04-09    0.194636\n",
      "Freq: D, Length: 100, dtype: float64\n"
     ]
    },
    {
     "data": {
      "text/plain": [
       "2000-01-31    0.209822\n",
       "2000-02-29   -0.160211\n",
       "2000-03-31    0.086351\n",
       "2000-04-30    0.115538\n",
       "Freq: M, dtype: float64"
      ]
     },
     "execution_count": 193,
     "metadata": {},
     "output_type": "execute_result"
    }
   ],
   "source": [
    "# Resampling is the process of converting a time series from one frequency to another\n",
    "# Going from high-frequency to low is called down-sampling, while from low-high is called upsampling\n",
    "# the pandas resample() method handles all of this and has a similar API to groupby\n",
    "\n",
    "rng = pd.date_range('2000-01-01', periods = 100, freq = 'D')\n",
    "ts = pd.Series(np.random.randn(len(rng)), index = rng)\n",
    "print(ts)\n",
    "ts.resample('M').mean() # resample and aggregate data to the monthly level"
   ]
  },
  {
   "cell_type": "code",
   "execution_count": 191,
   "metadata": {},
   "outputs": [
    {
     "data": {
      "text/plain": [
       "2000-01    0.242749\n",
       "2000-02   -0.284144\n",
       "2000-03   -0.058050\n",
       "2000-04   -0.373702\n",
       "Freq: M, dtype: float64"
      ]
     },
     "execution_count": 191,
     "metadata": {},
     "output_type": "execute_result"
    }
   ],
   "source": [
    "# Can also specify the type of object you want to resample to, such as a period  or timestamp\n",
    "# Input type is kept by default though which is in this case a date range\n",
    "\n",
    "ts.resample('M', kind = 'period').mean()"
   ]
  },
  {
   "cell_type": "markdown",
   "metadata": {},
   "source": [
    "#### Downsampling"
   ]
  },
  {
   "cell_type": "code",
   "execution_count": 200,
   "metadata": {},
   "outputs": [
    {
     "name": "stdout",
     "output_type": "stream",
     "text": [
      "2001-01-01 00:00:00     0\n",
      "2001-01-01 00:01:00     1\n",
      "2001-01-01 00:02:00     2\n",
      "2001-01-01 00:03:00     3\n",
      "2001-01-01 00:04:00     4\n",
      "2001-01-01 00:05:00     5\n",
      "2001-01-01 00:06:00     6\n",
      "2001-01-01 00:07:00     7\n",
      "2001-01-01 00:08:00     8\n",
      "2001-01-01 00:09:00     9\n",
      "2001-01-01 00:10:00    10\n",
      "2001-01-01 00:11:00    11\n",
      "Freq: T, dtype: int64\n"
     ]
    },
    {
     "data": {
      "text/plain": [
       "2000-12-31 23:55:00     0\n",
       "2001-01-01 00:00:00    15\n",
       "2001-01-01 00:05:00    40\n",
       "2001-01-01 00:10:00    11\n",
       "Freq: 5T, dtype: int64"
      ]
     },
     "execution_count": 200,
     "metadata": {},
     "output_type": "execute_result"
    }
   ],
   "source": [
    "# Each interval is half open and the union of all should span the entire timeframe\n",
    "# By default, the left bin edge is inclusive, but can change that by passing closed = 'right'\n",
    "\n",
    "rng = pd.date_range('2001-01-01', periods = 12, freq = 'T')\n",
    "ts = pd.Series(np.arange(12), index = rng)\n",
    "print(ts)\n",
    "\n",
    "# Aggregate into five minute chunks by sum\n",
    "\n",
    "ts.resample('5min', closed = 'right').sum()"
   ]
  },
  {
   "cell_type": "code",
   "execution_count": 202,
   "metadata": {},
   "outputs": [
    {
     "data": {
      "text/plain": [
       "2001-01-01 00:00:00     0\n",
       "2001-01-01 00:05:00    15\n",
       "2001-01-01 00:10:00    40\n",
       "2001-01-01 00:15:00    11\n",
       "Freq: 5T, dtype: int64"
      ]
     },
     "execution_count": 202,
     "metadata": {},
     "output_type": "execute_result"
    }
   ],
   "source": [
    "# Also note that the resulting time series is labeled from the left side of each bin; change by passing label = 'right'\n",
    "ts.resample('5min', closed = 'right', label = 'right').sum()"
   ]
  },
  {
   "cell_type": "code",
   "execution_count": 203,
   "metadata": {},
   "outputs": [
    {
     "data": {
      "text/plain": [
       "2000-12-31 23:59:59     0\n",
       "2001-01-01 00:04:59    15\n",
       "2001-01-01 00:09:59    40\n",
       "2001-01-01 00:14:59    11\n",
       "Freq: 5T, dtype: int64"
      ]
     },
     "execution_count": 203,
     "metadata": {},
     "output_type": "execute_result"
    }
   ],
   "source": [
    "# Can also add left or right offsets if desired, using additional argument or using shift() method\n",
    "\n",
    "ts.resample('5min', closed = 'right', label = 'right', loffset = '-1s').sum()"
   ]
  },
  {
   "cell_type": "code",
   "execution_count": 204,
   "metadata": {},
   "outputs": [
    {
     "data": {
      "text/html": [
       "<div>\n",
       "<style scoped>\n",
       "    .dataframe tbody tr th:only-of-type {\n",
       "        vertical-align: middle;\n",
       "    }\n",
       "\n",
       "    .dataframe tbody tr th {\n",
       "        vertical-align: top;\n",
       "    }\n",
       "\n",
       "    .dataframe thead th {\n",
       "        text-align: right;\n",
       "    }\n",
       "</style>\n",
       "<table border=\"1\" class=\"dataframe\">\n",
       "  <thead>\n",
       "    <tr style=\"text-align: right;\">\n",
       "      <th></th>\n",
       "      <th>open</th>\n",
       "      <th>high</th>\n",
       "      <th>low</th>\n",
       "      <th>close</th>\n",
       "    </tr>\n",
       "  </thead>\n",
       "  <tbody>\n",
       "    <tr>\n",
       "      <th>2001-01-01 00:00:00</th>\n",
       "      <td>0</td>\n",
       "      <td>4</td>\n",
       "      <td>0</td>\n",
       "      <td>4</td>\n",
       "    </tr>\n",
       "    <tr>\n",
       "      <th>2001-01-01 00:05:00</th>\n",
       "      <td>5</td>\n",
       "      <td>9</td>\n",
       "      <td>5</td>\n",
       "      <td>9</td>\n",
       "    </tr>\n",
       "    <tr>\n",
       "      <th>2001-01-01 00:10:00</th>\n",
       "      <td>10</td>\n",
       "      <td>11</td>\n",
       "      <td>10</td>\n",
       "      <td>11</td>\n",
       "    </tr>\n",
       "  </tbody>\n",
       "</table>\n",
       "</div>"
      ],
      "text/plain": [
       "                     open  high  low  close\n",
       "2001-01-01 00:00:00     0     4    0      4\n",
       "2001-01-01 00:05:00     5     9    5      9\n",
       "2001-01-01 00:10:00    10    11   10     11"
      ]
     },
     "execution_count": 204,
     "metadata": {},
     "output_type": "execute_result"
    }
   ],
   "source": [
    "# Pandas has a built-in Open-High-Low-Close aggregation function to use for resample. Great for financial data\n",
    "\n",
    "ts.resample('5min').ohlc()"
   ]
  },
  {
   "cell_type": "markdown",
   "metadata": {},
   "source": [
    "#### Upsampling and Interpolation"
   ]
  },
  {
   "cell_type": "code",
   "execution_count": 211,
   "metadata": {},
   "outputs": [
    {
     "name": "stdout",
     "output_type": "stream",
     "text": [
      "            Colorado     Texas  New York      Ohio\n",
      "2000-01-05  0.467258  1.169215 -0.305367  0.550272\n",
      "2000-01-12 -0.658334  0.750752  0.464932  0.559029\n"
     ]
    },
    {
     "data": {
      "text/html": [
       "<div>\n",
       "<style scoped>\n",
       "    .dataframe tbody tr th:only-of-type {\n",
       "        vertical-align: middle;\n",
       "    }\n",
       "\n",
       "    .dataframe tbody tr th {\n",
       "        vertical-align: top;\n",
       "    }\n",
       "\n",
       "    .dataframe thead th {\n",
       "        text-align: right;\n",
       "    }\n",
       "</style>\n",
       "<table border=\"1\" class=\"dataframe\">\n",
       "  <thead>\n",
       "    <tr style=\"text-align: right;\">\n",
       "      <th></th>\n",
       "      <th>Colorado</th>\n",
       "      <th>Texas</th>\n",
       "      <th>New York</th>\n",
       "      <th>Ohio</th>\n",
       "    </tr>\n",
       "  </thead>\n",
       "  <tbody>\n",
       "    <tr>\n",
       "      <th>2000-01-05</th>\n",
       "      <td>0.467258</td>\n",
       "      <td>1.169215</td>\n",
       "      <td>-0.305367</td>\n",
       "      <td>0.550272</td>\n",
       "    </tr>\n",
       "    <tr>\n",
       "      <th>2000-01-06</th>\n",
       "      <td>NaN</td>\n",
       "      <td>NaN</td>\n",
       "      <td>NaN</td>\n",
       "      <td>NaN</td>\n",
       "    </tr>\n",
       "    <tr>\n",
       "      <th>2000-01-07</th>\n",
       "      <td>NaN</td>\n",
       "      <td>NaN</td>\n",
       "      <td>NaN</td>\n",
       "      <td>NaN</td>\n",
       "    </tr>\n",
       "    <tr>\n",
       "      <th>2000-01-08</th>\n",
       "      <td>NaN</td>\n",
       "      <td>NaN</td>\n",
       "      <td>NaN</td>\n",
       "      <td>NaN</td>\n",
       "    </tr>\n",
       "    <tr>\n",
       "      <th>2000-01-09</th>\n",
       "      <td>NaN</td>\n",
       "      <td>NaN</td>\n",
       "      <td>NaN</td>\n",
       "      <td>NaN</td>\n",
       "    </tr>\n",
       "    <tr>\n",
       "      <th>2000-01-10</th>\n",
       "      <td>NaN</td>\n",
       "      <td>NaN</td>\n",
       "      <td>NaN</td>\n",
       "      <td>NaN</td>\n",
       "    </tr>\n",
       "    <tr>\n",
       "      <th>2000-01-11</th>\n",
       "      <td>NaN</td>\n",
       "      <td>NaN</td>\n",
       "      <td>NaN</td>\n",
       "      <td>NaN</td>\n",
       "    </tr>\n",
       "    <tr>\n",
       "      <th>2000-01-12</th>\n",
       "      <td>-0.658334</td>\n",
       "      <td>0.750752</td>\n",
       "      <td>0.464932</td>\n",
       "      <td>0.559029</td>\n",
       "    </tr>\n",
       "  </tbody>\n",
       "</table>\n",
       "</div>"
      ],
      "text/plain": [
       "            Colorado     Texas  New York      Ohio\n",
       "2000-01-05  0.467258  1.169215 -0.305367  0.550272\n",
       "2000-01-06       NaN       NaN       NaN       NaN\n",
       "2000-01-07       NaN       NaN       NaN       NaN\n",
       "2000-01-08       NaN       NaN       NaN       NaN\n",
       "2000-01-09       NaN       NaN       NaN       NaN\n",
       "2000-01-10       NaN       NaN       NaN       NaN\n",
       "2000-01-11       NaN       NaN       NaN       NaN\n",
       "2000-01-12 -0.658334  0.750752  0.464932  0.559029"
      ]
     },
     "execution_count": 211,
     "metadata": {},
     "output_type": "execute_result"
    }
   ],
   "source": [
    "# in Upsampling, no aggregation is needed but can define how the intervals are interpolated\n",
    "\n",
    "frame = pd.DataFrame(np.random.randn(2, 4), \n",
    "                     index = pd.date_range('1/1/2000', periods = 2, freq = 'W-WED'), \n",
    "                     columns = ['Colorado', 'Texas', 'New York', 'Ohio'])\n",
    "print(frame)\n",
    "frame.resample('D').asfreq() # convert to higher frequency with no aggregation"
   ]
  },
  {
   "cell_type": "code",
   "execution_count": 213,
   "metadata": {},
   "outputs": [
    {
     "data": {
      "text/html": [
       "<div>\n",
       "<style scoped>\n",
       "    .dataframe tbody tr th:only-of-type {\n",
       "        vertical-align: middle;\n",
       "    }\n",
       "\n",
       "    .dataframe tbody tr th {\n",
       "        vertical-align: top;\n",
       "    }\n",
       "\n",
       "    .dataframe thead th {\n",
       "        text-align: right;\n",
       "    }\n",
       "</style>\n",
       "<table border=\"1\" class=\"dataframe\">\n",
       "  <thead>\n",
       "    <tr style=\"text-align: right;\">\n",
       "      <th></th>\n",
       "      <th>Colorado</th>\n",
       "      <th>Texas</th>\n",
       "      <th>New York</th>\n",
       "      <th>Ohio</th>\n",
       "    </tr>\n",
       "  </thead>\n",
       "  <tbody>\n",
       "    <tr>\n",
       "      <th>2000-01-05</th>\n",
       "      <td>0.467258</td>\n",
       "      <td>1.169215</td>\n",
       "      <td>-0.305367</td>\n",
       "      <td>0.550272</td>\n",
       "    </tr>\n",
       "    <tr>\n",
       "      <th>2000-01-06</th>\n",
       "      <td>0.467258</td>\n",
       "      <td>1.169215</td>\n",
       "      <td>-0.305367</td>\n",
       "      <td>0.550272</td>\n",
       "    </tr>\n",
       "    <tr>\n",
       "      <th>2000-01-07</th>\n",
       "      <td>0.467258</td>\n",
       "      <td>1.169215</td>\n",
       "      <td>-0.305367</td>\n",
       "      <td>0.550272</td>\n",
       "    </tr>\n",
       "    <tr>\n",
       "      <th>2000-01-08</th>\n",
       "      <td>0.467258</td>\n",
       "      <td>1.169215</td>\n",
       "      <td>-0.305367</td>\n",
       "      <td>0.550272</td>\n",
       "    </tr>\n",
       "    <tr>\n",
       "      <th>2000-01-09</th>\n",
       "      <td>NaN</td>\n",
       "      <td>NaN</td>\n",
       "      <td>NaN</td>\n",
       "      <td>NaN</td>\n",
       "    </tr>\n",
       "    <tr>\n",
       "      <th>2000-01-10</th>\n",
       "      <td>NaN</td>\n",
       "      <td>NaN</td>\n",
       "      <td>NaN</td>\n",
       "      <td>NaN</td>\n",
       "    </tr>\n",
       "    <tr>\n",
       "      <th>2000-01-11</th>\n",
       "      <td>NaN</td>\n",
       "      <td>NaN</td>\n",
       "      <td>NaN</td>\n",
       "      <td>NaN</td>\n",
       "    </tr>\n",
       "    <tr>\n",
       "      <th>2000-01-12</th>\n",
       "      <td>-0.658334</td>\n",
       "      <td>0.750752</td>\n",
       "      <td>0.464932</td>\n",
       "      <td>0.559029</td>\n",
       "    </tr>\n",
       "  </tbody>\n",
       "</table>\n",
       "</div>"
      ],
      "text/plain": [
       "            Colorado     Texas  New York      Ohio\n",
       "2000-01-05  0.467258  1.169215 -0.305367  0.550272\n",
       "2000-01-06  0.467258  1.169215 -0.305367  0.550272\n",
       "2000-01-07  0.467258  1.169215 -0.305367  0.550272\n",
       "2000-01-08  0.467258  1.169215 -0.305367  0.550272\n",
       "2000-01-09       NaN       NaN       NaN       NaN\n",
       "2000-01-10       NaN       NaN       NaN       NaN\n",
       "2000-01-11       NaN       NaN       NaN       NaN\n",
       "2000-01-12 -0.658334  0.750752  0.464932  0.559029"
      ]
     },
     "execution_count": 213,
     "metadata": {},
     "output_type": "execute_result"
    }
   ],
   "source": [
    "# Can also define how to interpolate by usig the various fill methods\n",
    "\n",
    "frame.resample('D').ffill(limit = 3)"
   ]
  },
  {
   "cell_type": "markdown",
   "metadata": {},
   "source": [
    "#### Resampling by Period"
   ]
  },
  {
   "cell_type": "code",
   "execution_count": 221,
   "metadata": {},
   "outputs": [
    {
     "name": "stdout",
     "output_type": "stream",
     "text": [
      "         Colorado     Texas  New York      Ohio\n",
      "2000-01  1.463790  0.187681 -0.032986  1.511992\n",
      "2000-02  0.011686  1.638860  1.170213 -0.373971\n",
      "2000-03  2.397814  1.104900 -0.772629  0.377619\n",
      "2000-04  0.928902  0.497185 -0.602293 -0.546680\n",
      "2000-05 -0.446211  0.529251 -1.492449 -0.555601\n"
     ]
    },
    {
     "data": {
      "text/html": [
       "<div>\n",
       "<style scoped>\n",
       "    .dataframe tbody tr th:only-of-type {\n",
       "        vertical-align: middle;\n",
       "    }\n",
       "\n",
       "    .dataframe tbody tr th {\n",
       "        vertical-align: top;\n",
       "    }\n",
       "\n",
       "    .dataframe thead th {\n",
       "        text-align: right;\n",
       "    }\n",
       "</style>\n",
       "<table border=\"1\" class=\"dataframe\">\n",
       "  <thead>\n",
       "    <tr style=\"text-align: right;\">\n",
       "      <th></th>\n",
       "      <th>Colorado</th>\n",
       "      <th>Texas</th>\n",
       "      <th>New York</th>\n",
       "      <th>Ohio</th>\n",
       "    </tr>\n",
       "  </thead>\n",
       "  <tbody>\n",
       "    <tr>\n",
       "      <th>2000</th>\n",
       "      <td>0.277042</td>\n",
       "      <td>0.287389</td>\n",
       "      <td>0.141913</td>\n",
       "      <td>0.219304</td>\n",
       "    </tr>\n",
       "    <tr>\n",
       "      <th>2001</th>\n",
       "      <td>-0.256845</td>\n",
       "      <td>0.173546</td>\n",
       "      <td>0.124242</td>\n",
       "      <td>-0.355636</td>\n",
       "    </tr>\n",
       "  </tbody>\n",
       "</table>\n",
       "</div>"
      ],
      "text/plain": [
       "      Colorado     Texas  New York      Ohio\n",
       "2000  0.277042  0.287389  0.141913  0.219304\n",
       "2001 -0.256845  0.173546  0.124242 -0.355636"
      ]
     },
     "execution_count": 221,
     "metadata": {},
     "output_type": "execute_result"
    }
   ],
   "source": [
    "# Very similar to resampling by timestamp\n",
    "\n",
    "frame = pd.DataFrame(np.random.randn(24,4), \n",
    "                     index = pd.period_range('1-2000', '12-2001', freq='M'), \n",
    "                     columns = ['Colorado', 'Texas', 'New York', 'Ohio'])\n",
    "\n",
    "print(frame[:5])\n",
    "frame.resample('A-DEC').mean()"
   ]
  },
  {
   "cell_type": "markdown",
   "metadata": {},
   "source": [
    "### Moving Window Functions"
   ]
  },
  {
   "cell_type": "code",
   "execution_count": 227,
   "metadata": {},
   "outputs": [
    {
     "data": {
      "text/html": [
       "<div>\n",
       "<style scoped>\n",
       "    .dataframe tbody tr th:only-of-type {\n",
       "        vertical-align: middle;\n",
       "    }\n",
       "\n",
       "    .dataframe tbody tr th {\n",
       "        vertical-align: top;\n",
       "    }\n",
       "\n",
       "    .dataframe thead th {\n",
       "        text-align: right;\n",
       "    }\n",
       "</style>\n",
       "<table border=\"1\" class=\"dataframe\">\n",
       "  <thead>\n",
       "    <tr style=\"text-align: right;\">\n",
       "      <th></th>\n",
       "      <th>AAPL</th>\n",
       "      <th>MSFT</th>\n",
       "      <th>XOM</th>\n",
       "    </tr>\n",
       "  </thead>\n",
       "  <tbody>\n",
       "    <tr>\n",
       "      <th>2003-01-02</th>\n",
       "      <td>7.40</td>\n",
       "      <td>21.11</td>\n",
       "      <td>29.22</td>\n",
       "    </tr>\n",
       "    <tr>\n",
       "      <th>2003-01-03</th>\n",
       "      <td>7.45</td>\n",
       "      <td>21.14</td>\n",
       "      <td>29.24</td>\n",
       "    </tr>\n",
       "    <tr>\n",
       "      <th>2003-01-06</th>\n",
       "      <td>7.45</td>\n",
       "      <td>21.52</td>\n",
       "      <td>29.96</td>\n",
       "    </tr>\n",
       "    <tr>\n",
       "      <th>2003-01-07</th>\n",
       "      <td>7.43</td>\n",
       "      <td>21.93</td>\n",
       "      <td>28.95</td>\n",
       "    </tr>\n",
       "    <tr>\n",
       "      <th>2003-01-08</th>\n",
       "      <td>7.28</td>\n",
       "      <td>21.31</td>\n",
       "      <td>28.83</td>\n",
       "    </tr>\n",
       "    <tr>\n",
       "      <th>...</th>\n",
       "      <td>...</td>\n",
       "      <td>...</td>\n",
       "      <td>...</td>\n",
       "    </tr>\n",
       "    <tr>\n",
       "      <th>2011-10-10</th>\n",
       "      <td>388.81</td>\n",
       "      <td>26.94</td>\n",
       "      <td>76.28</td>\n",
       "    </tr>\n",
       "    <tr>\n",
       "      <th>2011-10-11</th>\n",
       "      <td>400.29</td>\n",
       "      <td>27.00</td>\n",
       "      <td>76.27</td>\n",
       "    </tr>\n",
       "    <tr>\n",
       "      <th>2011-10-12</th>\n",
       "      <td>402.19</td>\n",
       "      <td>26.96</td>\n",
       "      <td>77.16</td>\n",
       "    </tr>\n",
       "    <tr>\n",
       "      <th>2011-10-13</th>\n",
       "      <td>408.43</td>\n",
       "      <td>27.18</td>\n",
       "      <td>76.37</td>\n",
       "    </tr>\n",
       "    <tr>\n",
       "      <th>2011-10-14</th>\n",
       "      <td>422.00</td>\n",
       "      <td>27.27</td>\n",
       "      <td>78.11</td>\n",
       "    </tr>\n",
       "  </tbody>\n",
       "</table>\n",
       "<p>2214 rows × 3 columns</p>\n",
       "</div>"
      ],
      "text/plain": [
       "              AAPL   MSFT    XOM\n",
       "2003-01-02    7.40  21.11  29.22\n",
       "2003-01-03    7.45  21.14  29.24\n",
       "2003-01-06    7.45  21.52  29.96\n",
       "2003-01-07    7.43  21.93  28.95\n",
       "2003-01-08    7.28  21.31  28.83\n",
       "...            ...    ...    ...\n",
       "2011-10-10  388.81  26.94  76.28\n",
       "2011-10-11  400.29  27.00  76.27\n",
       "2011-10-12  402.19  26.96  77.16\n",
       "2011-10-13  408.43  27.18  76.37\n",
       "2011-10-14  422.00  27.27  78.11\n",
       "\n",
       "[2214 rows x 3 columns]"
      ]
     },
     "execution_count": 227,
     "metadata": {},
     "output_type": "execute_result"
    }
   ],
   "source": [
    "# Great for smoothing noisy or gappy data\n",
    "\n",
    "close_px_all = pd.read_csv('pydata-book/examples/stock_px_2.csv', parse_dates = True, index_col = 0)\n",
    "close_px = close_px_all[['AAPL', 'MSFT', 'XOM']]\n",
    "close_px"
   ]
  },
  {
   "cell_type": "code",
   "execution_count": 229,
   "metadata": {},
   "outputs": [
    {
     "data": {
      "text/html": [
       "<div>\n",
       "<style scoped>\n",
       "    .dataframe tbody tr th:only-of-type {\n",
       "        vertical-align: middle;\n",
       "    }\n",
       "\n",
       "    .dataframe tbody tr th {\n",
       "        vertical-align: top;\n",
       "    }\n",
       "\n",
       "    .dataframe thead th {\n",
       "        text-align: right;\n",
       "    }\n",
       "</style>\n",
       "<table border=\"1\" class=\"dataframe\">\n",
       "  <thead>\n",
       "    <tr style=\"text-align: right;\">\n",
       "      <th></th>\n",
       "      <th>AAPL</th>\n",
       "      <th>MSFT</th>\n",
       "      <th>XOM</th>\n",
       "    </tr>\n",
       "  </thead>\n",
       "  <tbody>\n",
       "    <tr>\n",
       "      <th>2003-01-02</th>\n",
       "      <td>7.40</td>\n",
       "      <td>21.11</td>\n",
       "      <td>29.22</td>\n",
       "    </tr>\n",
       "    <tr>\n",
       "      <th>2003-01-03</th>\n",
       "      <td>7.45</td>\n",
       "      <td>21.14</td>\n",
       "      <td>29.24</td>\n",
       "    </tr>\n",
       "    <tr>\n",
       "      <th>2003-01-06</th>\n",
       "      <td>7.45</td>\n",
       "      <td>21.52</td>\n",
       "      <td>29.96</td>\n",
       "    </tr>\n",
       "    <tr>\n",
       "      <th>2003-01-07</th>\n",
       "      <td>7.43</td>\n",
       "      <td>21.93</td>\n",
       "      <td>28.95</td>\n",
       "    </tr>\n",
       "    <tr>\n",
       "      <th>2003-01-08</th>\n",
       "      <td>7.28</td>\n",
       "      <td>21.31</td>\n",
       "      <td>28.83</td>\n",
       "    </tr>\n",
       "    <tr>\n",
       "      <th>...</th>\n",
       "      <td>...</td>\n",
       "      <td>...</td>\n",
       "      <td>...</td>\n",
       "    </tr>\n",
       "    <tr>\n",
       "      <th>2011-10-10</th>\n",
       "      <td>388.81</td>\n",
       "      <td>26.94</td>\n",
       "      <td>76.28</td>\n",
       "    </tr>\n",
       "    <tr>\n",
       "      <th>2011-10-11</th>\n",
       "      <td>400.29</td>\n",
       "      <td>27.00</td>\n",
       "      <td>76.27</td>\n",
       "    </tr>\n",
       "    <tr>\n",
       "      <th>2011-10-12</th>\n",
       "      <td>402.19</td>\n",
       "      <td>26.96</td>\n",
       "      <td>77.16</td>\n",
       "    </tr>\n",
       "    <tr>\n",
       "      <th>2011-10-13</th>\n",
       "      <td>408.43</td>\n",
       "      <td>27.18</td>\n",
       "      <td>76.37</td>\n",
       "    </tr>\n",
       "    <tr>\n",
       "      <th>2011-10-14</th>\n",
       "      <td>422.00</td>\n",
       "      <td>27.27</td>\n",
       "      <td>78.11</td>\n",
       "    </tr>\n",
       "  </tbody>\n",
       "</table>\n",
       "<p>2292 rows × 3 columns</p>\n",
       "</div>"
      ],
      "text/plain": [
       "              AAPL   MSFT    XOM\n",
       "2003-01-02    7.40  21.11  29.22\n",
       "2003-01-03    7.45  21.14  29.24\n",
       "2003-01-06    7.45  21.52  29.96\n",
       "2003-01-07    7.43  21.93  28.95\n",
       "2003-01-08    7.28  21.31  28.83\n",
       "...            ...    ...    ...\n",
       "2011-10-10  388.81  26.94  76.28\n",
       "2011-10-11  400.29  27.00  76.27\n",
       "2011-10-12  402.19  26.96  77.16\n",
       "2011-10-13  408.43  27.18  76.37\n",
       "2011-10-14  422.00  27.27  78.11\n",
       "\n",
       "[2292 rows x 3 columns]"
      ]
     },
     "execution_count": 229,
     "metadata": {},
     "output_type": "execute_result"
    }
   ],
   "source": [
    "close_px.resample('B').ffill() # account for holidays and to create a smooth period"
   ]
  },
  {
   "cell_type": "code",
   "execution_count": 233,
   "metadata": {},
   "outputs": [
    {
     "data": {
      "text/plain": [
       "<matplotlib.axes._subplots.AxesSubplot at 0x121a35080>"
      ]
     },
     "execution_count": 233,
     "metadata": {},
     "output_type": "execute_result"
    },
    {
     "data": {
      "image/png": "[encoded data removed]",
      "text/plain": [
       "<Figure size 432x288 with 1 Axes>"
      ]
     },
     "metadata": {
      "needs_background": "light"
     },
     "output_type": "display_data"
    }
   ],
   "source": [
    "# Rolling operator which is similar to resample and groupby to calculate moving window functions\n",
    "# By default all rolling window functions require all the values in the window to be non-null\n",
    "\n",
    "close_px.AAPL.plot()\n",
    "close_px.AAPL.rolling(250).mean().plot() "
   ]
  },
  {
   "cell_type": "code",
   "execution_count": 236,
   "metadata": {},
   "outputs": [
    {
     "name": "stdout",
     "output_type": "stream",
     "text": [
      "2003-01-02         NaN\n",
      "2003-01-03         NaN\n",
      "2003-01-06         NaN\n",
      "2003-01-07         NaN\n",
      "2003-01-08         NaN\n",
      "2003-01-09         NaN\n",
      "2003-01-10         NaN\n",
      "2003-01-13         NaN\n",
      "2003-01-14         NaN\n",
      "2003-01-15    0.077496\n",
      "2003-01-16    0.074760\n",
      "2003-01-17    0.112368\n",
      "2003-01-21    0.138735\n",
      "2003-01-22    0.164631\n",
      "2003-01-23    0.165731\n",
      "Name: AAPL, dtype: float64\n"
     ]
    },
    {
     "data": {
      "text/plain": [
       "<matplotlib.axes._subplots.AxesSubplot at 0x121b57160>"
      ]
     },
     "execution_count": 236,
     "metadata": {},
     "output_type": "execute_result"
    },
    {
     "data": {
      "image/png": "[encoded data removed]",
      "text/plain": [
       "<Figure size 432x288 with 1 Axes>"
      ]
     },
     "metadata": {
      "needs_background": "light"
     },
     "output_type": "display_data"
    }
   ],
   "source": [
    "# Can also set a minimum number of window periods to account for data at the beginning of the timeseries\n",
    "\n",
    "print(close_px.AAPL.rolling(250, min_periods = 10).std()[:15])\n",
    "close_px.AAPL.rolling(250, min_periods = 10).std().plot()"
   ]
  },
  {
   "cell_type": "code",
   "execution_count": 238,
   "metadata": {},
   "outputs": [
    {
     "data": {
      "text/plain": [
       "<matplotlib.axes._subplots.AxesSubplot at 0x121ec8b70>"
      ]
     },
     "execution_count": 238,
     "metadata": {},
     "output_type": "execute_result"
    },
    {
     "data": {
      "image/png": "[encoded data removed]",
      "text/plain": [
       "<Figure size 432x288 with 1 Axes>"
      ]
     },
     "metadata": {
      "needs_background": "light"
     },
     "output_type": "display_data"
    }
   ],
   "source": [
    "# Can also use expanding windows.  An expanding window starts the window from the beginning\n",
    "# of the time series and increases it until it encompasses the whole series\n",
    "\n",
    "close_px.AAPL.expanding().mean().plot() "
   ]
  },
  {
   "cell_type": "code",
   "execution_count": 239,
   "metadata": {},
   "outputs": [
    {
     "data": {
      "text/plain": [
       "<matplotlib.axes._subplots.AxesSubplot at 0x121e89278>"
      ]
     },
     "execution_count": 239,
     "metadata": {},
     "output_type": "execute_result"
    },
    {
     "data": {
      "image/png": "[encoded data removed]",
      "text/plain": [
       "<Figure size 432x288 with 1 Axes>"
      ]
     },
     "metadata": {
      "needs_background": "light"
     },
     "output_type": "display_data"
    }
   ],
   "source": [
    "# Calling a moving window function to a DataFrame applies the transformation on each column\n",
    "\n",
    "close_px.rolling(60).mean().plot(logy = True)"
   ]
  },
  {
   "cell_type": "code",
   "execution_count": 252,
   "metadata": {},
   "outputs": [
    {
     "data": {
      "text/plain": [
       "<matplotlib.axes._subplots.AxesSubplot at 0x1227b5a58>"
      ]
     },
     "execution_count": 252,
     "metadata": {},
     "output_type": "execute_result"
    },
    {
     "data": {
      "image/png": "[encoded data removed]",
      "text/plain": [
       "<Figure size 432x288 with 1 Axes>"
      ]
     },
     "metadata": {
      "needs_background": "light"
     },
     "output_type": "display_data"
    }
   ],
   "source": [
    "# Can also combine the power of groupby and resample by passing in a string for a time offset into rolling\n",
    "\n",
    "close_px.rolling('14D').mean().plot()"
   ]
  },
  {
   "cell_type": "markdown",
   "metadata": {},
   "source": [
    "##### Exponentially Weighted Functions"
   ]
  },
  {
   "cell_type": "code",
   "execution_count": 254,
   "metadata": {},
   "outputs": [
    {
     "data": {
      "text/plain": [
       "<matplotlib.axes._subplots.AxesSubplot at 0x122a6f4a8>"
      ]
     },
     "execution_count": 254,
     "metadata": {},
     "output_type": "execute_result"
    },
    {
     "data": {
      "image/png": "[encoded data removed]",
      "text/plain": [
       "<Figure size 432x288 with 1 Axes>"
      ]
     },
     "metadata": {
      "needs_background": "light"
     },
     "output_type": "display_data"
    }
   ],
   "source": [
    "# Places more weight on recent observations\n",
    "\n",
    "aapl_px = close_px.AAPL['2006':'2007']\n",
    "ma60 = aapl_px.rolling(60, min_periods = 20).mean()\n",
    "ewma60 = aapl_px.ewm(span = 60).mean() # result comprable to a SMA window function with window size equal to span\n",
    "\n",
    "ma60.plot(style = 'k--', label = 'Simple MA')\n",
    "ewma60.plot(style = 'b-', label = 'EWMA')"
   ]
  },
  {
   "cell_type": "markdown",
   "metadata": {},
   "source": [
    "##### Binary Moving Window Functions"
   ]
  },
  {
   "cell_type": "code",
   "execution_count": 257,
   "metadata": {},
   "outputs": [
    {
     "data": {
      "text/plain": [
       "<matplotlib.axes._subplots.AxesSubplot at 0x122a25c18>"
      ]
     },
     "execution_count": 257,
     "metadata": {},
     "output_type": "execute_result"
    },
    {
     "data": {
      "image/png": "[encoded data removed]",
      "text/plain": [
       "<Figure size 432x288 with 1 Axes>"
      ]
     },
     "metadata": {
      "needs_background": "light"
     },
     "output_type": "display_data"
    }
   ],
   "source": [
    "# Correlations between two variables as for stocks, etc.\n",
    "\n",
    "# First, calculate percent changes of everything\n",
    "spx_px = close_px_all['SPX']\n",
    "spx_ret = spx_px.pct_change()\n",
    "returns = close_px.pct_change()\n",
    "\n",
    "# Pairwise correlation with AAPL vs SPX\n",
    "\n",
    "returns.AAPL.rolling(125, min_periods = 100).corr(spx_ret).plot()"
   ]
  },
  {
   "cell_type": "code",
   "execution_count": 259,
   "metadata": {},
   "outputs": [
    {
     "data": {
      "text/plain": [
       "<matplotlib.axes._subplots.AxesSubplot at 0x122c9d278>"
      ]
     },
     "execution_count": 259,
     "metadata": {},
     "output_type": "execute_result"
    },
    {
     "data": {
      "image/png": "[encoded data removed]",
      "text/plain": [
       "<Figure size 432x288 with 1 Axes>"
      ]
     },
     "metadata": {
      "needs_background": "light"
     },
     "output_type": "display_data"
    }
   ],
   "source": [
    "# Can also pass in a whole DF and get a corr with each column with the passed-in Series\n",
    "\n",
    "returns.rolling(125, min_periods = 100).corr(spx_ret).plot()"
   ]
  },
  {
   "cell_type": "markdown",
   "metadata": {},
   "source": [
    "##### User-defined Moving Window Functions"
   ]
  },
  {
   "cell_type": "code",
   "execution_count": 261,
   "metadata": {},
   "outputs": [
    {
     "data": {
      "text/plain": [
       "<matplotlib.axes._subplots.AxesSubplot at 0x1a24d19550>"
      ]
     },
     "execution_count": 261,
     "metadata": {},
     "output_type": "execute_result"
    },
    {
     "data": {
      "image/png": "[encoded data removed]",
      "text/plain": [
       "<Figure size 432x288 with 1 Axes>"
      ]
     },
     "metadata": {
      "needs_background": "light"
     },
     "output_type": "display_data"
    }
   ],
   "source": [
    "# Can use apply method on rolling for custom functions\n",
    "# Only requirement is that the function produces a single value from each piece of the array.\n",
    "# Example, calculate percentile rank of a particular value over the sample\n",
    "\n",
    "from scipy.stats import percentileofscore\n",
    "\n",
    "score_at_2pct = lambda x: percentileofscore(x, 0.02)\n",
    "returns.AAPL.rolling(250).apply(score_at_2pct).plot()"
   ]
  },
  {
   "cell_type": "code",
   "execution_count": null,
   "metadata": {},
   "outputs": [],
   "source": []
  }
 ],
 "metadata": {
  "kernelspec": {
   "display_name": "Python 3",
   "language": "python",
   "name": "python3"
  },
  "language_info": {
   "codemirror_mode": {
    "name": "ipython",
    "version": 3
   },
   "file_extension": ".py",
   "mimetype": "text/x-python",
   "name": "python",
   "nbconvert_exporter": "python",
   "pygments_lexer": "ipython3",
   "version": "3.6.10"
  }
 },
 "nbformat": 4,
 "nbformat_minor": 4
}
