{
 "cells": [
  {
   "cell_type": "markdown",
   "metadata": {},
   "source": [
    "# Python for Data Analysis - Workbook"
   ]
  },
  {
   "cell_type": "markdown",
   "metadata": {},
   "source": [
    "### Preliminaries"
   ]
  },
  {
   "cell_type": "code",
   "execution_count": 5,
   "metadata": {},
   "outputs": [],
   "source": [
    "import numpy as np\n",
    "import pandas as pd"
   ]
  },
  {
   "cell_type": "code",
   "execution_count": 6,
   "metadata": {},
   "outputs": [],
   "source": [
    "df = pd.read_csv('../Memorial Day DS Project/us_only_v1.0.csv')"
   ]
  },
  {
   "cell_type": "markdown",
   "metadata": {},
   "source": [
    "## Basics: Built-in Data Structures, Functions, and Files"
   ]
  },
  {
   "cell_type": "markdown",
   "metadata": {},
   "source": [
    "### Data Structures and sequences"
   ]
  },
  {
   "cell_type": "markdown",
   "metadata": {},
   "source": [
    "#### Tuples"
   ]
  },
  {
   "cell_type": "code",
   "execution_count": 8,
   "metadata": {},
   "outputs": [],
   "source": [
    "# a tup is a fixed length, immutable sequence of python obj's. They can be created like this:\n",
    "\n",
    "tup = 4,5,6"
   ]
  },
  {
   "cell_type": "code",
   "execution_count": 9,
   "metadata": {},
   "outputs": [],
   "source": [
    "# This one is nested\n",
    "nested_tup = (4,5,6),(7,8)"
   ]
  },
  {
   "cell_type": "code",
   "execution_count": 11,
   "metadata": {},
   "outputs": [
    {
     "data": {
      "text/plain": [
       "('s', 't', 'r', 'i', 'n', 'g')"
      ]
     },
     "execution_count": 11,
     "metadata": {},
     "output_type": "execute_result"
    }
   ],
   "source": [
    "# Any sequence or iterator (more on that later) can be converted to a tuple like this:\n",
    "\n",
    "tuple([4,4,2])\n",
    "tuple('string')"
   ]
  },
  {
   "cell_type": "code",
   "execution_count": 12,
   "metadata": {},
   "outputs": [
    {
     "data": {
      "text/plain": [
       "4"
      ]
     },
     "execution_count": 12,
     "metadata": {},
     "output_type": "execute_result"
    }
   ],
   "source": [
    "# Just like any C, C++, or aa array, tuples can be accessed with thte [] notation\n",
    "tup[0]"
   ]
  },
  {
   "cell_type": "code",
   "execution_count": 15,
   "metadata": {},
   "outputs": [
    {
     "data": {
      "text/plain": [
       "(4, 5, 6, (4, 5, 6), (7, 8))"
      ]
     },
     "execution_count": 15,
     "metadata": {},
     "output_type": "execute_result"
    }
   ],
   "source": [
    "# You can concatenate tuples using the '+' symbol to produce longer tuples\n",
    "tup + nested_tup"
   ]
  },
  {
   "cell_type": "code",
   "execution_count": 16,
   "metadata": {},
   "outputs": [
    {
     "data": {
      "text/plain": [
       "(4, 5, 6, 4, 5, 6, 4, 5, 6, 4, 5, 6)"
      ]
     },
     "execution_count": 16,
     "metadata": {},
     "output_type": "execute_result"
    }
   ],
   "source": [
    "# But using the '*' character ('*' means multiply) instead of the '+' character has the\n",
    "# effect of creating that many copies of the tuple\n",
    "\n",
    "tup * 4"
   ]
  },
  {
   "cell_type": "code",
   "execution_count": 17,
   "metadata": {},
   "outputs": [],
   "source": [
    "# Replicate a swap function as in e.g. C\n",
    "\n",
    "tup = [4,5,6]\n",
    "a, b = 1, 2"
   ]
  },
  {
   "cell_type": "code",
   "execution_count": 21,
   "metadata": {},
   "outputs": [
    {
     "name": "stdout",
     "output_type": "stream",
     "text": [
      "a=1 b=2, c=3\n",
      "a=4 b=5, c=6\n",
      "a=7 b=8, c=9\n"
     ]
    }
   ],
   "source": [
    "# Common use for variable unpacking is iterating over sequences or lists\n",
    "\n",
    "seq = [1,2,3], [4,5,6], [7,8,9]\n",
    "\n",
    "for a,b,c in seq:\n",
    "    print('a={0} b={1}, c={2}'.format(a,b,c))"
   ]
  },
  {
   "cell_type": "code",
   "execution_count": 22,
   "metadata": {},
   "outputs": [
    {
     "data": {
      "text/plain": [
       "4"
      ]
     },
     "execution_count": 22,
     "metadata": {},
     "output_type": "execute_result"
    }
   ],
   "source": [
    "# Count the number of occurences of a particular value in a list\n",
    "\n",
    "a = (1,2,2,2,3,4,2)\n",
    "a.count(2)"
   ]
  },
  {
   "cell_type": "markdown",
   "metadata": {},
   "source": [
    "#### Lists"
   ]
  },
  {
   "cell_type": "code",
   "execution_count": 23,
   "metadata": {},
   "outputs": [],
   "source": [
    "# List is variable length and contents can be modified in-place\n",
    "# Defined using square brackets\n",
    "# Equivalent to Javascript Array"
   ]
  },
  {
   "cell_type": "code",
   "execution_count": 24,
   "metadata": {},
   "outputs": [],
   "source": [
    "# List function is commonly used in data processing as a way to create an iterator expression\n",
    "\n",
    "gen = range(10)"
   ]
  },
  {
   "cell_type": "code",
   "execution_count": 25,
   "metadata": {},
   "outputs": [
    {
     "data": {
      "text/plain": [
       "range(0, 10)"
      ]
     },
     "execution_count": 25,
     "metadata": {},
     "output_type": "execute_result"
    }
   ],
   "source": [
    "gen"
   ]
  },
  {
   "cell_type": "code",
   "execution_count": 27,
   "metadata": {},
   "outputs": [
    {
     "data": {
      "text/plain": [
       "[0, 1, 2, 3, 4, 5, 6, 7, 8, 9]"
      ]
     },
     "execution_count": 27,
     "metadata": {},
     "output_type": "execute_result"
    }
   ],
   "source": [
    "# Now we have a list from 0 - 9 (10 values)\n",
    "\n",
    "list(gen)"
   ]
  },
  {
   "cell_type": "code",
   "execution_count": 34,
   "metadata": {},
   "outputs": [],
   "source": [
    "ex_list = ['foo', 'bar', 'baz']"
   ]
  },
  {
   "cell_type": "code",
   "execution_count": 35,
   "metadata": {},
   "outputs": [],
   "source": [
    "# Can append or insert elements\n",
    "ex_list.append('bow')"
   ]
  },
  {
   "cell_type": "code",
   "execution_count": 36,
   "metadata": {},
   "outputs": [
    {
     "data": {
      "text/plain": [
       "['dog', 'foo', 'bar', 'baz', 'bow']"
      ]
     },
     "execution_count": 36,
     "metadata": {},
     "output_type": "execute_result"
    }
   ],
   "source": [
    "# Note: inserting/popping elements in a list is computationally expensive\n",
    "ex_list.insert(0, 'dog')\n",
    "ex_list"
   ]
  },
  {
   "cell_type": "code",
   "execution_count": 37,
   "metadata": {},
   "outputs": [
    {
     "data": {
      "text/plain": [
       "['foo', 'bar', 'baz', 'bow']"
      ]
     },
     "execution_count": 37,
     "metadata": {},
     "output_type": "execute_result"
    }
   ],
   "source": [
    "ex_list.pop(0)\n",
    "ex_list"
   ]
  },
  {
   "cell_type": "code",
   "execution_count": 38,
   "metadata": {},
   "outputs": [
    {
     "data": {
      "text/plain": [
       "['foo', 'bar', 'bow']"
      ]
     },
     "execution_count": 38,
     "metadata": {},
     "output_type": "execute_result"
    }
   ],
   "source": [
    "# Or remove by value\n",
    "ex_list.remove('baz')\n",
    "ex_list"
   ]
  },
  {
   "cell_type": "code",
   "execution_count": 42,
   "metadata": {},
   "outputs": [
    {
     "data": {
      "text/plain": [
       "True"
      ]
     },
     "execution_count": 42,
     "metadata": {},
     "output_type": "execute_result"
    }
   ],
   "source": [
    "# Check to see if a value is included in a specific list\n",
    "'foo' in ex_list"
   ]
  },
  {
   "cell_type": "code",
   "execution_count": 43,
   "metadata": {},
   "outputs": [
    {
     "data": {
      "text/plain": [
       "False"
      ]
     },
     "execution_count": 43,
     "metadata": {},
     "output_type": "execute_result"
    }
   ],
   "source": [
    "'foo' not in ex_list"
   ]
  },
  {
   "cell_type": "code",
   "execution_count": 45,
   "metadata": {},
   "outputs": [
    {
     "data": {
      "text/plain": [
       "['foo', 'bar', 'bow', 'dog', 'cat', 'mouse']"
      ]
     },
     "execution_count": 45,
     "metadata": {},
     "output_type": "execute_result"
    }
   ],
   "source": [
    "# Concatenation (expensive)\n",
    "\n",
    "ex_list2 = ['dog', 'cat', 'mouse']\n",
    "ex_list + ex_list2"
   ]
  },
  {
   "cell_type": "code",
   "execution_count": 47,
   "metadata": {},
   "outputs": [
    {
     "data": {
      "text/plain": [
       "['foo', 'bar', 'bow', 'dog', 'cat', 'mouse', 'dog', 'cat', 'mouse']"
      ]
     },
     "execution_count": 47,
     "metadata": {},
     "output_type": "execute_result"
    }
   ],
   "source": [
    "# Extension (cheaper)\n",
    "\n",
    "ex_list.extend(ex_list2)\n",
    "ex_list"
   ]
  },
  {
   "cell_type": "code",
   "execution_count": 49,
   "metadata": {},
   "outputs": [
    {
     "data": {
      "text/plain": [
       "[1, 3, 4]"
      ]
     },
     "execution_count": 49,
     "metadata": {},
     "output_type": "execute_result"
    }
   ],
   "source": [
    "# Sorting lists\n",
    "\n",
    "a = [3,4,1]\n",
    "a.sort()\n",
    "a"
   ]
  },
  {
   "cell_type": "code",
   "execution_count": 51,
   "metadata": {},
   "outputs": [
    {
     "data": {
      "text/plain": [
       "['foo', 'bar', 'bow', 'dog', 'cat', 'dog', 'cat', 'mouse', 'mouse']"
      ]
     },
     "execution_count": 51,
     "metadata": {},
     "output_type": "execute_result"
    }
   ],
   "source": [
    "# Can pass in different keys, or functions that produce a value to search the objects\n",
    "\n",
    "ex_list.sort(key=len)\n",
    "ex_list"
   ]
  },
  {
   "cell_type": "markdown",
   "metadata": {},
   "source": [
    "##### Binary Search"
   ]
  },
  {
   "cell_type": "code",
   "execution_count": 62,
   "metadata": {},
   "outputs": [],
   "source": [
    "# Binary search is implemented through the native \"bisect\" module\n",
    "\n",
    "import bisect\n",
    "c = [1,2,2,2,3,4,7]"
   ]
  },
  {
   "cell_type": "code",
   "execution_count": 63,
   "metadata": {},
   "outputs": [
    {
     "data": {
      "text/plain": [
       "4"
      ]
     },
     "execution_count": 63,
     "metadata": {},
     "output_type": "execute_result"
    }
   ],
   "source": [
    "bisect.bisect(c,2)"
   ]
  },
  {
   "cell_type": "code",
   "execution_count": 64,
   "metadata": {},
   "outputs": [
    {
     "data": {
      "text/plain": [
       "7"
      ]
     },
     "execution_count": 64,
     "metadata": {},
     "output_type": "execute_result"
    }
   ],
   "source": [
    "bisect.bisect(c,7)"
   ]
  },
  {
   "cell_type": "code",
   "execution_count": 65,
   "metadata": {},
   "outputs": [
    {
     "data": {
      "text/plain": [
       "[1, 2, 2, 2, 3, 4, 6, 7]"
      ]
     },
     "execution_count": 65,
     "metadata": {},
     "output_type": "execute_result"
    }
   ],
   "source": [
    "# Inserting an element\n",
    "# Note...list has to be sorted first!\n",
    "\n",
    "bisect.insort(c,6)\n",
    "c"
   ]
  },
  {
   "cell_type": "markdown",
   "metadata": {},
   "source": [
    "##### Slicing a List"
   ]
  },
  {
   "cell_type": "code",
   "execution_count": 66,
   "metadata": {},
   "outputs": [
    {
     "data": {
      "text/plain": [
       "[2, 3, 7, 5]"
      ]
     },
     "execution_count": 66,
     "metadata": {},
     "output_type": "execute_result"
    }
   ],
   "source": [
    "# Slicing - basic form is start:stop to the indexing operator\n",
    "\n",
    "seq = [7,2,3,7,5,6,0,1]\n",
    "seq[1:5]"
   ]
  },
  {
   "cell_type": "code",
   "execution_count": 67,
   "metadata": {},
   "outputs": [
    {
     "data": {
      "text/plain": [
       "[7, 2, 3, 7, 8, 5, 6, 0, 1]"
      ]
     },
     "execution_count": 67,
     "metadata": {},
     "output_type": "execute_result"
    }
   ],
   "source": [
    "# Can also assign with a sequence\n",
    "\n",
    "seq[3:4] = [7,8]\n",
    "seq"
   ]
  },
  {
   "cell_type": "code",
   "execution_count": 68,
   "metadata": {},
   "outputs": [
    {
     "data": {
      "text/plain": [
       "[5, 6, 0, 1]"
      ]
     },
     "execution_count": 68,
     "metadata": {},
     "output_type": "execute_result"
    }
   ],
   "source": [
    "# Use negative indices to slice the sequence relative to the end\n",
    "\n",
    "seq[-4:]"
   ]
  },
  {
   "cell_type": "code",
   "execution_count": 69,
   "metadata": {},
   "outputs": [
    {
     "data": {
      "text/plain": [
       "[8, 5, 6, 0, 1]"
      ]
     },
     "execution_count": 69,
     "metadata": {},
     "output_type": "execute_result"
    }
   ],
   "source": [
    "seq[4:]"
   ]
  },
  {
   "cell_type": "code",
   "execution_count": 72,
   "metadata": {},
   "outputs": [
    {
     "data": {
      "text/plain": [
       "[2, 7, 5, 0]"
      ]
     },
     "execution_count": 72,
     "metadata": {},
     "output_type": "execute_result"
    }
   ],
   "source": [
    "# Step size can be defined after a second colon, as below\n",
    "seq[1:8:2]"
   ]
  },
  {
   "cell_type": "code",
   "execution_count": 73,
   "metadata": {},
   "outputs": [
    {
     "data": {
      "text/plain": [
       "[1, 0, 6, 5, 8, 7, 3, 2, 7]"
      ]
     },
     "execution_count": 73,
     "metadata": {},
     "output_type": "execute_result"
    }
   ],
   "source": [
    "# Here's a handy way to reverse a list\n",
    "\n",
    "seq[::-1]"
   ]
  },
  {
   "cell_type": "markdown",
   "metadata": {},
   "source": [
    "##### Built in Sequence Functions"
   ]
  },
  {
   "cell_type": "code",
   "execution_count": 79,
   "metadata": {},
   "outputs": [
    {
     "name": "stdout",
     "output_type": "stream",
     "text": [
      "Hard Way\n",
      "\n",
      "1\n",
      "2\n",
      "3\n",
      "\n",
      "Easy Way\n",
      "\n",
      "3\n",
      "3\n",
      "3\n"
     ]
    }
   ],
   "source": [
    "# Keep track of index of current item when enumerating over a list/dict\n",
    "\n",
    "# Hard Way:\n",
    "\n",
    "collection = [1,2,3]\n",
    "\n",
    "i = 0\n",
    "print('Hard Way\\n')\n",
    "for item in collection:\n",
    "    print(item)\n",
    "    i += 1\n",
    "\n",
    "# Easy Way\n",
    "\n",
    "print('\\nEasy Way\\n')\n",
    "for i, value in enumerate(collection):\n",
    "    print(item)"
   ]
  },
  {
   "cell_type": "code",
   "execution_count": 128,
   "metadata": {},
   "outputs": [
    {
     "name": "stdout",
     "output_type": "stream",
     "text": [
      "{0: 'foo', 1: 'bar', 2: 'baz'}\n",
      "{0: 'foo', 1: 'bar', 2: 'baz'}\n"
     ]
    }
   ],
   "source": [
    "# Example - create some dict that is a mapping between two lists\n",
    "\n",
    "some_list = ['foo', 'bar', 'baz']\n",
    "mapping = {}\n",
    "\n",
    "for i,v in enumerate(some_list):\n",
    "    mapping[i] = v\n",
    "    \n",
    "print(mapping)\n",
    "\n",
    "# Really easy way to make a dictionary\n",
    "print(dict(mapping))"
   ]
  },
  {
   "cell_type": "code",
   "execution_count": 85,
   "metadata": {},
   "outputs": [
    {
     "data": {
      "text/plain": [
       "[1, 2, 2, 5, 12]"
      ]
     },
     "execution_count": 85,
     "metadata": {},
     "output_type": "execute_result"
    }
   ],
   "source": [
    "# Sorting\n",
    "\n",
    "sorted([5,2,1,12,2])"
   ]
  },
  {
   "cell_type": "code",
   "execution_count": 86,
   "metadata": {},
   "outputs": [
    {
     "data": {
      "text/plain": [
       "[' ', 'a', 'c', 'e', 'e', 'h', 'o', 'r', 'r', 's']"
      ]
     },
     "execution_count": 86,
     "metadata": {},
     "output_type": "execute_result"
    }
   ],
   "source": [
    "sorted('horse race')"
   ]
  },
  {
   "cell_type": "code",
   "execution_count": 89,
   "metadata": {},
   "outputs": [
    {
     "data": {
      "text/plain": [
       "[('foo', 'dog'), ('bar', 'cat'), ('baz', 'three')]"
      ]
     },
     "execution_count": 89,
     "metadata": {},
     "output_type": "execute_result"
    }
   ],
   "source": [
    "# Zipping\n",
    "\n",
    "seq1 = ['foo', 'bar', 'baz']\n",
    "seq2 = ['dog', 'cat', 'three']\n",
    "\n",
    "zipped = zip(seq1, seq2)\n",
    "list(zipped)"
   ]
  },
  {
   "cell_type": "code",
   "execution_count": 92,
   "metadata": {},
   "outputs": [
    {
     "name": "stdout",
     "output_type": "stream",
     "text": [
      "0: foo, dog\n",
      "1: bar, cat\n",
      "2: baz, three\n"
     ]
    }
   ],
   "source": [
    "# Combining zip and enumerate for ultimate pythonism\n",
    "\n",
    "\n",
    "seq1 = ['foo', 'bar', 'baz']\n",
    "seq2 = ['dog', 'cat', 'three']\n",
    "\n",
    "for i, (a,b) in enumerate(zip(seq1, seq2)):\n",
    "    print('{0}: {1}, {2}'.format(i, a, b))"
   ]
  },
  {
   "cell_type": "code",
   "execution_count": 108,
   "metadata": {},
   "outputs": [
    {
     "data": {
      "text/plain": [
       "('Nolan', 'Roger', 'Schilling')"
      ]
     },
     "execution_count": 108,
     "metadata": {},
     "output_type": "execute_result"
    }
   ],
   "source": [
    "# Unzip in a hacky way using '*'\n",
    "\n",
    "pitchers = [('Nolan', 'Ryan'), ('Roger', 'Clemens'),('Schilling', 'Curt')]\n",
    "first_names, last_names = zip(*pitchers)\n",
    "first_names"
   ]
  },
  {
   "cell_type": "code",
   "execution_count": 112,
   "metadata": {},
   "outputs": [
    {
     "name": "stdout",
     "output_type": "stream",
     "text": [
      "('Nolan', 'Ryan')\n",
      "[('Roger', 'Clemens'), ('Schilling', 'Curt')]\n"
     ]
    }
   ],
   "source": [
    "# The above uses the '*' operator to 'unpack' the list. See below example\n",
    "\n",
    "a,*b = pitchers\n",
    "print(a)\n",
    "print(b)"
   ]
  },
  {
   "cell_type": "markdown",
   "metadata": {},
   "source": [
    " "
   ]
  },
  {
   "cell_type": "markdown",
   "metadata": {},
   "source": [
    " \n"
   ]
  },
  {
   "cell_type": "markdown",
   "metadata": {},
   "source": [
    "#### Dicts (Also called key-value pairs or hashmaps)"
   ]
  },
  {
   "cell_type": "code",
   "execution_count": 122,
   "metadata": {},
   "outputs": [],
   "source": [
    "ex_dict = {'a': 'some value', 'b': [1, 2, 3, 4]}"
   ]
  },
  {
   "cell_type": "code",
   "execution_count": 123,
   "metadata": {},
   "outputs": [
    {
     "data": {
      "text/plain": [
       "'some value'"
      ]
     },
     "execution_count": 123,
     "metadata": {},
     "output_type": "execute_result"
    }
   ],
   "source": [
    "# Access dict item\n",
    "ex_dict['a']"
   ]
  },
  {
   "cell_type": "code",
   "execution_count": 124,
   "metadata": {},
   "outputs": [
    {
     "name": "stdout",
     "output_type": "stream",
     "text": [
      "{'a': 'some value', 'b': [5, 6, 7, 8]}\n"
     ]
    }
   ],
   "source": [
    "# Replace item\n",
    "ex_dict['b'] = [5, 6, 7, 8]\n",
    "print(ex_dict)"
   ]
  },
  {
   "cell_type": "code",
   "execution_count": 125,
   "metadata": {},
   "outputs": [
    {
     "name": "stdout",
     "output_type": "stream",
     "text": [
      "{'a': 'some value', 'b': [5, 6, 7, 8], 'fish': 'red'}\n"
     ]
    }
   ],
   "source": [
    "# Add item\n",
    "ex_dict['fish'] = 'red'\n",
    "print(ex_dict)"
   ]
  },
  {
   "cell_type": "code",
   "execution_count": 126,
   "metadata": {},
   "outputs": [
    {
     "data": {
      "text/plain": [
       "True"
      ]
     },
     "execution_count": 126,
     "metadata": {},
     "output_type": "execute_result"
    }
   ],
   "source": [
    "# Check for a key\n",
    "'b' in ex_dict"
   ]
  },
  {
   "cell_type": "code",
   "execution_count": 127,
   "metadata": {},
   "outputs": [
    {
     "name": "stdout",
     "output_type": "stream",
     "text": [
      "some value\n"
     ]
    }
   ],
   "source": [
    "# Two ways to delete: del which deletes the k/v or pop which returns the value and deletes key\n",
    "\n",
    "del ex_dict['b']\n",
    "print(ex_dict.pop('a'))"
   ]
  },
  {
   "cell_type": "code",
   "execution_count": 135,
   "metadata": {},
   "outputs": [
    {
     "name": "stdout",
     "output_type": "stream",
     "text": [
      "['fish']\n",
      "['red']\n"
     ]
    }
   ],
   "source": [
    "# Keys and values\n",
    "print(list(ex_dict.keys()))\n",
    "print(list(ex_dict.values()))"
   ]
  },
  {
   "cell_type": "markdown",
   "metadata": {},
   "source": [
    "##### Merging two dicts"
   ]
  },
  {
   "cell_type": "code",
   "execution_count": 138,
   "metadata": {},
   "outputs": [
    {
     "name": "stdout",
     "output_type": "stream",
     "text": [
      "{'red': 1, 'blue': 2, 'green': 3, 'purple': 4}\n"
     ]
    }
   ],
   "source": [
    "d1 = {'red': 1, 'blue': 2}\n",
    "d2 = {'green': 3, 'purple': 4}\n",
    "d1.update(d2)\n",
    "print(d1)\n",
    "\n",
    "# Note: changes in place"
   ]
  },
  {
   "cell_type": "markdown",
   "metadata": {},
   "source": [
    "#### Creating dicts from sequences"
   ]
  },
  {
   "cell_type": "code",
   "execution_count": 143,
   "metadata": {},
   "outputs": [
    {
     "data": {
      "text/plain": [
       "{'dog': 1, 'cat': 2, 'rabbit': 3}"
      ]
     },
     "execution_count": 143,
     "metadata": {},
     "output_type": "execute_result"
    }
   ],
   "source": [
    "# dict is essentially a collection of 2-tuples\n",
    "# Simple way to create a dict out of two lists\n",
    "\n",
    "key_list = ['dog', 'cat', 'rabbit']\n",
    "value_list = [1,2,3]\n",
    "\n",
    "mapping = {}\n",
    "for key, value in zip(key_list, value_list):\n",
    "    mapping[key] = value\n",
    "    \n",
    "mapping"
   ]
  },
  {
   "cell_type": "markdown",
   "metadata": {},
   "source": [
    "##### Setting default values"
   ]
  },
  {
   "cell_type": "code",
   "execution_count": 147,
   "metadata": {},
   "outputs": [],
   "source": [
    "# Hard way:\n",
    "\n",
    "if key in some_dict:\n",
    "    value = some_dict[key]\n",
    "else:\n",
    "    value = default"
   ]
  },
  {
   "cell_type": "code",
   "execution_count": 151,
   "metadata": {},
   "outputs": [
    {
     "name": "stdout",
     "output_type": "stream",
     "text": [
      "1\n",
      "3\n"
     ]
    }
   ],
   "source": [
    "# can replace with get method (or pop):\n",
    "\n",
    "ex_dict = {'dog':1, 'cat':2}\n",
    "default = 3\n",
    "print(ex_dict.get('dog', default))\n",
    "print(ex_dict.get('baz', default))"
   ]
  },
  {
   "cell_type": "markdown",
   "metadata": {},
   "source": [
    "#### Sets"
   ]
  },
  {
   "cell_type": "markdown",
   "metadata": {},
   "source": [
    "A set is an unordered collection of unique elements"
   ]
  },
  {
   "cell_type": "code",
   "execution_count": 152,
   "metadata": {},
   "outputs": [
    {
     "name": "stdout",
     "output_type": "stream",
     "text": [
      "{1, 2, 3, 4, 6}\n"
     ]
    }
   ],
   "source": [
    "s1 = set([2,3,2,4,1,4,2,1,6])\n",
    "print(s1)"
   ]
  },
  {
   "cell_type": "code",
   "execution_count": 154,
   "metadata": {},
   "outputs": [],
   "source": [
    "# another way to create sets\n",
    "s2 = {5,6,7,8}"
   ]
  },
  {
   "cell_type": "code",
   "execution_count": 156,
   "metadata": {},
   "outputs": [
    {
     "data": {
      "text/plain": [
       "{6}"
      ]
     },
     "execution_count": 156,
     "metadata": {},
     "output_type": "execute_result"
    }
   ],
   "source": [
    "# Supports all the mathetmatical set operations\n",
    "\n",
    "s1.intersection(s2)"
   ]
  },
  {
   "cell_type": "code",
   "execution_count": 161,
   "metadata": {},
   "outputs": [
    {
     "data": {
      "text/plain": [
       "{1, 2, 3, 4, 5, 6, 7, 8}"
      ]
     },
     "execution_count": 161,
     "metadata": {},
     "output_type": "execute_result"
    }
   ],
   "source": [
    "s1.union(s2)\n",
    "\n",
    "# or\n",
    "\n",
    "s1 | s2"
   ]
  },
  {
   "cell_type": "code",
   "execution_count": 162,
   "metadata": {},
   "outputs": [
    {
     "data": {
      "text/plain": [
       "{1, 2, 3, 4}"
      ]
     },
     "execution_count": 162,
     "metadata": {},
     "output_type": "execute_result"
    }
   ],
   "source": [
    "s1.difference(s2)\n",
    "\n",
    "# or\n",
    "\n",
    "s1 - s2"
   ]
  },
  {
   "cell_type": "code",
   "execution_count": 163,
   "metadata": {},
   "outputs": [
    {
     "data": {
      "text/plain": [
       "{5, 7, 8}"
      ]
     },
     "execution_count": 163,
     "metadata": {},
     "output_type": "execute_result"
    }
   ],
   "source": [
    "s2.difference(s1)\n",
    "\n",
    "# or\n",
    "\n",
    "s2 - s1"
   ]
  },
  {
   "cell_type": "code",
   "execution_count": 164,
   "metadata": {},
   "outputs": [
    {
     "data": {
      "text/plain": [
       "{1, 2, 3, 4, 5, 7, 8}"
      ]
     },
     "execution_count": 164,
     "metadata": {},
     "output_type": "execute_result"
    }
   ],
   "source": [
    "s1.symmetric_difference(s2)\n",
    "\n",
    "# or\n",
    "\n",
    "s1 ^ s2"
   ]
  },
  {
   "cell_type": "code",
   "execution_count": 167,
   "metadata": {},
   "outputs": [
    {
     "data": {
      "text/plain": [
       "False"
      ]
     },
     "execution_count": 167,
     "metadata": {},
     "output_type": "execute_result"
    }
   ],
   "source": [
    "s1.issubset(s2)\n",
    "\n",
    "# or\n",
    "\n",
    "s1 <= s2"
   ]
  },
  {
   "cell_type": "code",
   "execution_count": 168,
   "metadata": {},
   "outputs": [
    {
     "data": {
      "text/plain": [
       "False"
      ]
     },
     "execution_count": 168,
     "metadata": {},
     "output_type": "execute_result"
    }
   ],
   "source": [
    "s1.issuperset(s2)\n",
    "\n",
    "# or\n",
    "\n",
    "s1 >= s2"
   ]
  },
  {
   "cell_type": "code",
   "execution_count": 169,
   "metadata": {},
   "outputs": [],
   "source": [
    "# Plus many others"
   ]
  },
  {
   "cell_type": "markdown",
   "metadata": {},
   "source": [
    "### List/Set/Dict Comprehension"
   ]
  },
  {
   "cell_type": "markdown",
   "metadata": {},
   "source": [
    "##### List Comprehension"
   ]
  },
  {
   "cell_type": "code",
   "execution_count": 174,
   "metadata": {},
   "outputs": [],
   "source": [
    "# List comprehension replaces this -->\n",
    "\n",
    "# result = []\n",
    "# for val in collection:\n",
    "#     if condition:\n",
    "#         result.append(expr)\n",
    "        \n",
    "# ...with this -->\n",
    "\n",
    "# [expr for val in collection if condition]"
   ]
  },
  {
   "cell_type": "code",
   "execution_count": 186,
   "metadata": {},
   "outputs": [
    {
     "data": {
      "text/plain": [
       "['BAT', 'CAR', 'DOVE']"
      ]
     },
     "execution_count": 186,
     "metadata": {},
     "output_type": "execute_result"
    }
   ],
   "source": [
    "# Example of list comprehension:\n",
    "\n",
    "strings = ['a', 'as', 'bat', 'car', 'dove']\n",
    "[x.upper() for x in strings if len(x) > 2]\n",
    "\n",
    "# Note that the output is a list"
   ]
  },
  {
   "cell_type": "code",
   "execution_count": 192,
   "metadata": {},
   "outputs": [
    {
     "name": "stdout",
     "output_type": "stream",
     "text": [
      "['Valerie', 'Steven']\n",
      "['Valerie', 'Steven']\n"
     ]
    }
   ],
   "source": [
    "# Can also do nested list comprehensions\n",
    "\n",
    "name_list = [['John', 'Emily', 'Valerie', 'Mickels'], ['Maria', 'Juan', 'Pilar', 'Steven']]\n",
    "\n",
    "# HARD WAY\n",
    "\n",
    "names_of_interest = []\n",
    "for names in name_list:\n",
    "    double_e = [name for name in names if name.count('e') >= 2]\n",
    "    names_of_interest.extend(double_e)\n",
    "\n",
    "print(names_of_interest)\n",
    "\n",
    "# EASY WAY\n",
    "\n",
    "result = [name for names in name_list for name in names if name.count('e') >= 2]\n",
    "print(result)"
   ]
  },
  {
   "cell_type": "markdown",
   "metadata": {},
   "source": [
    "##### Set/Dict Comprehension"
   ]
  },
  {
   "cell_type": "code",
   "execution_count": 183,
   "metadata": {},
   "outputs": [
    {
     "name": "stdout",
     "output_type": "stream",
     "text": [
      "{1, 2, 3, 4}\n"
     ]
    }
   ],
   "source": [
    "# Create a set based on lengths of words\n",
    "\n",
    "strings = ['a', 'as', 'bat', 'car', 'dove']\n",
    "unique_lengths = {len(x) for x in strings}\n",
    "print(unique_lengths)"
   ]
  },
  {
   "cell_type": "code",
   "execution_count": 185,
   "metadata": {},
   "outputs": [
    {
     "name": "stdout",
     "output_type": "stream",
     "text": [
      "{'a': 0, 'as': 1, 'bat': 2, 'car': 3, 'dove': 4}\n"
     ]
    }
   ],
   "source": [
    "# Create a location mapping a dictionary\n",
    "strings = ['a', 'as', 'bat', 'car', 'dove']\n",
    "loc_mapping = {val : index for index, val in enumerate(strings)}\n",
    "print(loc_mapping)"
   ]
  },
  {
   "cell_type": "markdown",
   "metadata": {},
   "source": [
    " "
   ]
  },
  {
   "cell_type": "markdown",
   "metadata": {},
   "source": [
    "### Functions"
   ]
  },
  {
   "cell_type": "code",
   "execution_count": 194,
   "metadata": {},
   "outputs": [
    {
     "name": "stdout",
     "output_type": "stream",
     "text": [
      "['ALICE', 'BOB', 'CHARLIE']\n"
     ]
    }
   ],
   "source": [
    "# Note, all functions in Python are represented as objects\n",
    "# So we can pass in a list of functions to to other functions like this:\n",
    "\n",
    "def clean_strings(strings, ops):\n",
    "    result = []\n",
    "    for value in strings:\n",
    "        for function in ops:\n",
    "            value = function(value)\n",
    "        result.append(value)\n",
    "    return result\n",
    "\n",
    "strs = ['Alice', 'Bob  ', 'charlie']\n",
    "clean_ops = [str.strip, str.upper]\n",
    "\n",
    "print(clean_strings(strs, clean_ops))"
   ]
  },
  {
   "cell_type": "markdown",
   "metadata": {},
   "source": [
    "#### Map"
   ]
  },
  {
   "cell_type": "code",
   "execution_count": 197,
   "metadata": {},
   "outputs": [
    {
     "name": "stdout",
     "output_type": "stream",
     "text": [
      "ALICE\n",
      "BOB  \n",
      "CHARLIE\n"
     ]
    }
   ],
   "source": [
    "# Applies a function to a sequence of some kind\n",
    "\n",
    "strs = ['Alice', 'Bob  ', 'charlie']\n",
    "\n",
    "for string in map(str.upper, strs):\n",
    "    print(string)"
   ]
  },
  {
   "cell_type": "markdown",
   "metadata": {},
   "source": [
    "#### Lambda Functions"
   ]
  },
  {
   "cell_type": "code",
   "execution_count": 204,
   "metadata": {},
   "outputs": [],
   "source": [
    "# Lambda functions are the Python version of anonymous functions\n",
    "\n",
    "def short(x):\n",
    "    return x*2\n",
    "\n",
    "lambda_short = lambda x: x*2"
   ]
  },
  {
   "cell_type": "code",
   "execution_count": 205,
   "metadata": {},
   "outputs": [
    {
     "data": {
      "text/plain": [
       "[8, 0, 2, 4, 12]"
      ]
     },
     "execution_count": 205,
     "metadata": {},
     "output_type": "execute_result"
    }
   ],
   "source": [
    "# Another practical example\n",
    "\n",
    "def apply_to_list(some_list, f):\n",
    "    return [f(x) for x in some_list]\n",
    "\n",
    "ints = [4, 0, 1, 2,6]\n",
    "apply_to_list(ints, lambda x: x*2)"
   ]
  },
  {
   "cell_type": "markdown",
   "metadata": {},
   "source": [
    "#### Generators"
   ]
  },
  {
   "cell_type": "code",
   "execution_count": 207,
   "metadata": {},
   "outputs": [
    {
     "name": "stdout",
     "output_type": "stream",
     "text": [
      "a\n",
      "b\n",
      "c\n"
     ]
    }
   ],
   "source": [
    "# Python features an iterator protocol, a generic way to make objects iterable\n",
    "# e.g. iterating over a dict yields the dict keys\n",
    "\n",
    "some_dict = {'a':1, 'b':2, 'c':3}\n",
    "for key in some_dict:\n",
    "    print(key)"
   ]
  },
  {
   "cell_type": "code",
   "execution_count": 215,
   "metadata": {},
   "outputs": [
    {
     "name": "stdout",
     "output_type": "stream",
     "text": [
      "['a', 'b', 'c']\n"
     ]
    }
   ],
   "source": [
    "# This can be called directly using the 'iter' keyword\n",
    "\n",
    "some_dict = {'a':1, 'b':2, 'c':3}\n",
    "\n",
    "dict_iterator = iter(some_dict)\n",
    "\n",
    "# Can pass into methods expecting a list or list-like object\n",
    "\n",
    "print(list(dict_iterator))\n",
    "# print(max(dict_iterator))"
   ]
  },
  {
   "cell_type": "markdown",
   "metadata": {},
   "source": [
    "#### Generators"
   ]
  },
  {
   "cell_type": "code",
   "execution_count": 216,
   "metadata": {},
   "outputs": [
    {
     "data": {
      "text/plain": [
       "<generator object squares at 0x122978570>"
      ]
     },
     "execution_count": 216,
     "metadata": {},
     "output_type": "execute_result"
    }
   ],
   "source": [
    "# A generator is a concise way to construct a new iterable object\n",
    "# Generator returns multiple results lazily, pausing until next is requested\n",
    "# Use the 'yield' keyword instead of 'return' to create a generator\n",
    "\n",
    "def squares(n=10):\n",
    "    for i in range(1, n+1):\n",
    "        yield i ** 2\n",
    "\n",
    "gen = squares()\n",
    "gen"
   ]
  },
  {
   "cell_type": "code",
   "execution_count": 217,
   "metadata": {},
   "outputs": [
    {
     "name": "stdout",
     "output_type": "stream",
     "text": [
      "1 4 9 16 25 36 49 64 81 100 "
     ]
    }
   ],
   "source": [
    "# Gets evaluated when you iterate over it\n",
    "\n",
    "for x in gen:\n",
    "    print(x, end= ' ')"
   ]
  },
  {
   "cell_type": "code",
   "execution_count": 220,
   "metadata": {},
   "outputs": [
    {
     "name": "stdout",
     "output_type": "stream",
     "text": [
      "0 1 4 9 16 25 36 49 64 81 "
     ]
    }
   ],
   "source": [
    "# Can also use an expression to make generators more concise (similar to list comp)\n",
    "\n",
    "gen = [x ** 2 for x in range(10)]\n",
    "for x in gen:\n",
    "    print(x, end= ' ')"
   ]
  },
  {
   "cell_type": "code",
   "execution_count": 221,
   "metadata": {},
   "outputs": [
    {
     "data": {
      "text/plain": [
       "328350"
      ]
     },
     "execution_count": 221,
     "metadata": {},
     "output_type": "execute_result"
    }
   ],
   "source": [
    "# Can use generators in place of list comprehensions \n",
    "\n",
    "sum(x ** 2 for x in range(100))"
   ]
  },
  {
   "cell_type": "code",
   "execution_count": 232,
   "metadata": {},
   "outputs": [],
   "source": [
    "# Lots of useful generators in itertools here\n",
    "# https://docs.python.org/3/library/itertools.html\n",
    "\n",
    "# A couple demonstrated:"
   ]
  },
  {
   "cell_type": "code",
   "execution_count": 231,
   "metadata": {},
   "outputs": [
    {
     "data": {
      "text/plain": [
       "[(1, 2),\n",
       " (1, 3),\n",
       " (1, 4),\n",
       " (1, 6),\n",
       " (1, 135),\n",
       " (1, 6231),\n",
       " (2, 3),\n",
       " (2, 4),\n",
       " (2, 6),\n",
       " (2, 135),\n",
       " (2, 6231),\n",
       " (3, 4),\n",
       " (3, 6),\n",
       " (3, 135),\n",
       " (3, 6231),\n",
       " (4, 6),\n",
       " (4, 135),\n",
       " (4, 6231),\n",
       " (6, 135),\n",
       " (6, 6231),\n",
       " (135, 6231)]"
      ]
     },
     "execution_count": 231,
     "metadata": {},
     "output_type": "execute_result"
    }
   ],
   "source": [
    "# Don't forget to import itertools!\n",
    "import itertools as it\n",
    "\n",
    "# Combinations\n",
    "\n",
    "ex_set = {1, 2, 6, 3, 135,6, 6231, 6, 4}\n",
    "list(it.combinations(ex_set, 2))"
   ]
  },
  {
   "cell_type": "code",
   "execution_count": 235,
   "metadata": {},
   "outputs": [
    {
     "data": {
      "text/plain": [
       "[(1, 2),\n",
       " (1, 3),\n",
       " (1, 4),\n",
       " (1, 6),\n",
       " (1, 135),\n",
       " (1, 6231),\n",
       " (2, 1),\n",
       " (2, 3),\n",
       " (2, 4),\n",
       " (2, 6),\n",
       " (2, 135),\n",
       " (2, 6231),\n",
       " (3, 1),\n",
       " (3, 2),\n",
       " (3, 4),\n",
       " (3, 6),\n",
       " (3, 135),\n",
       " (3, 6231),\n",
       " (4, 1),\n",
       " (4, 2),\n",
       " (4, 3),\n",
       " (4, 6),\n",
       " (4, 135),\n",
       " (4, 6231),\n",
       " (6, 1),\n",
       " (6, 2),\n",
       " (6, 3),\n",
       " (6, 4),\n",
       " (6, 135),\n",
       " (6, 6231),\n",
       " (135, 1),\n",
       " (135, 2),\n",
       " (135, 3),\n",
       " (135, 4),\n",
       " (135, 6),\n",
       " (135, 6231),\n",
       " (6231, 1),\n",
       " (6231, 2),\n",
       " (6231, 3),\n",
       " (6231, 4),\n",
       " (6231, 6),\n",
       " (6231, 135)]"
      ]
     },
     "execution_count": 235,
     "metadata": {},
     "output_type": "execute_result"
    }
   ],
   "source": [
    "# Permutations\n",
    "import itertools as it\n",
    "\n",
    "ex_set = {1, 2, 6, 3, 135,6, 6231, 6, 4}\n",
    "list(it.permutations(ex_set, 2))"
   ]
  },
  {
   "cell_type": "markdown",
   "metadata": {},
   "source": [
    "### Files and the Operating System"
   ]
  },
  {
   "cell_type": "code",
   "execution_count": 257,
   "metadata": {},
   "outputs": [
    {
     "data": {
      "text/plain": [
       "['This is an example text file\\n',\n",
       " 'I am practicing my VIM skills\\n',\n",
       " 'I am practicing my VIM skills\\n',\n",
       " 'I am practicing my VIM skillz\\n']"
      ]
     },
     "execution_count": 257,
     "metadata": {},
     "output_type": "execute_result"
    }
   ],
   "source": [
    "path = './crushp.txt'\n",
    "\n",
    "lines = [line for line in open(path)]\n",
    "lines"
   ]
  },
  {
   "cell_type": "code",
   "execution_count": 258,
   "metadata": {},
   "outputs": [
    {
     "data": {
      "text/plain": [
       "'This is an example text file\\n'"
      ]
     },
     "execution_count": 258,
     "metadata": {},
     "output_type": "execute_result"
    }
   ],
   "source": [
    "# Can access by line as with an array\n",
    "\n",
    "lines[0]"
   ]
  },
  {
   "cell_type": "code",
   "execution_count": 263,
   "metadata": {},
   "outputs": [],
   "source": [
    "# Very important! Like C, must remember to close files or there will be memory leaks\n",
    "\n",
    "path = './crushp.txt'\n",
    "\n",
    "f = open(path)\n",
    "f.close()"
   ]
  },
  {
   "cell_type": "code",
   "execution_count": 282,
   "metadata": {},
   "outputs": [
    {
     "name": "stdout",
     "output_type": "stream",
     "text": [
      "['This is an example text file\\n', 'I am practicing my VIM skills\\n', 'I am practicing my VIM skills\\n', 'I am practicing my VIM skillz\\n']\n",
      "True\n"
     ]
    }
   ],
   "source": [
    "# Can also use the \"with\" statement to close a file at the end of the block\n",
    "\n",
    "path = './crushp.txt'\n",
    "lines = [];\n",
    "\n",
    "with open(path) as f:\n",
    "    lines = [line for line in open(path)]\n",
    "print(lines)\n",
    "\n",
    "print(f.closed)"
   ]
  },
  {
   "cell_type": "code",
   "execution_count": 288,
   "metadata": {},
   "outputs": [
    {
     "name": "stdout",
     "output_type": "stream",
     "text": [
      "['This is an example text file\\n', 'I am practicing my VIM skills\\n', 'I am practicing my VIM skills\\n', 'I am practicing my VIM skillz\\n']\n",
      "True\n"
     ]
    }
   ],
   "source": [
    "# Alternative way to read lines into a file\n",
    "\n",
    "path = './crushp.txt'\n",
    "lines = [];\n",
    "\n",
    "with open(path) as f:\n",
    "    lines = f.readlines()\n",
    "print(lines)\n",
    "\n",
    "print(f.closed)"
   ]
  },
  {
   "cell_type": "code",
   "execution_count": 287,
   "metadata": {},
   "outputs": [
    {
     "data": {
      "text/plain": [
       "True"
      ]
     },
     "execution_count": 287,
     "metadata": {},
     "output_type": "execute_result"
    }
   ],
   "source": [
    "# Use 'read' and 'write' methods just like you would in C\n",
    "\n",
    "path = './crushp.txt'\n",
    "\n",
    "f = open(path)\n",
    "f.read(10)\n",
    "\n",
    "# Goto a specific character in the file (by integer)\n",
    "f.seek(10)\n",
    "\n",
    "# Where are you in the file?\n",
    "f.tell()\n",
    "\n",
    "# close the file\n",
    "f.close()\n",
    "\n",
    "f.closed"
   ]
  },
  {
   "cell_type": "markdown",
   "metadata": {},
   "source": [
    " "
   ]
  },
  {
   "cell_type": "markdown",
   "metadata": {},
   "source": [
    "## NumPy"
   ]
  },
  {
   "cell_type": "markdown",
   "metadata": {},
   "source": [
    "### Introduction to the NumPy Array"
   ]
  },
  {
   "cell_type": "markdown",
   "metadata": {},
   "source": [
    "#### ndarray objects are the basis of NumPy computing"
   ]
  },
  {
   "cell_type": "code",
   "execution_count": 294,
   "metadata": {},
   "outputs": [
    {
     "data": {
      "text/plain": [
       "array([[-0.10043225,  0.69225456, -0.5355994 ],\n",
       "       [-1.17543133, -0.53292317, -0.31573878]])"
      ]
     },
     "execution_count": 294,
     "metadata": {},
     "output_type": "execute_result"
    }
   ],
   "source": [
    "# Creates a matrix of dimensions x,y with values selected at random from a standard norm dist.\n",
    "\n",
    "np.random.randn(2,3)"
   ]
  },
  {
   "cell_type": "code",
   "execution_count": 383,
   "metadata": {},
   "outputs": [
    {
     "name": "stdout",
     "output_type": "stream",
     "text": [
      "[[0. 0. 0. 0.]\n",
      " [1. 1. 1. 1.]\n",
      " [2. 2. 2. 2.]\n",
      " [3. 3. 3. 3.]\n",
      " [4. 4. 4. 4.]\n",
      " [5. 5. 5. 5.]\n",
      " [6. 6. 6. 6.]\n",
      " [7. 7. 7. 7.]]\n",
      "\n",
      "\n",
      "[[ 0  1  2  3]\n",
      " [ 4  5  6  7]\n",
      " [ 8  9 10 11]\n",
      " [12 13 14 15]\n",
      " [16 17 18 19]\n",
      " [20 21 22 23]\n",
      " [24 25 26 27]\n",
      " [28 29 30 31]]\n"
     ]
    }
   ],
   "source": [
    "# A few other ways to initialize a matrix\n",
    "\n",
    "# Initialize each value in a row to the same value\n",
    "\n",
    "arr = np.empty((8,4))\n",
    "\n",
    "for i in range(8):\n",
    "    arr[i] = i\n",
    "\n",
    "print(arr)\n",
    "print('\\n')\n",
    "    \n",
    "    \n",
    "# Initialize sequentially\n",
    "\n",
    "arr2 = np.arange(32).reshape(8,4)\n",
    "print(arr2)"
   ]
  },
  {
   "cell_type": "code",
   "execution_count": 297,
   "metadata": {},
   "outputs": [
    {
     "name": "stdout",
     "output_type": "stream",
     "text": [
      "[[-0.63863108 -1.14957662 -1.68275552]\n",
      " [-0.44124116  1.74118678  0.88941171]]\n",
      "[[ -6.38631084 -11.49576625 -16.82755515]\n",
      " [ -4.41241159  17.41186784   8.89411708]]\n",
      "[[-1.27726217 -2.29915325 -3.36551103]\n",
      " [-0.88248232  3.48237357  1.77882342]]\n"
     ]
    }
   ],
   "source": [
    "# Can do scalar or vector operations\n",
    "\n",
    "data = np.random.randn(2,3)\n",
    "print(data)\n",
    "print(data * 10)\n",
    "print(data + data)"
   ]
  },
  {
   "cell_type": "code",
   "execution_count": 302,
   "metadata": {},
   "outputs": [
    {
     "name": "stdout",
     "output_type": "stream",
     "text": [
      "(2, 3)\n",
      "float64\n"
     ]
    }
   ],
   "source": [
    "# Note, an ndarray is a generic multi-dim container for data that is all the same type\n",
    "\n",
    "data = np.random.randn(2,3)\n",
    "\n",
    "print(data.shape)\n",
    "print(data.dtype)"
   ]
  },
  {
   "cell_type": "code",
   "execution_count": 305,
   "metadata": {},
   "outputs": [
    {
     "data": {
      "text/plain": [
       "array([ 0,  1,  2,  3,  4,  5,  6,  7,  8,  9, 10, 11, 12, 13, 14])"
      ]
     },
     "execution_count": 305,
     "metadata": {},
     "output_type": "execute_result"
    }
   ],
   "source": [
    "# Numpy equivalent of range function: arange\n",
    "\n",
    "np.arange(15)"
   ]
  },
  {
   "cell_type": "code",
   "execution_count": 309,
   "metadata": {},
   "outputs": [
    {
     "name": "stdout",
     "output_type": "stream",
     "text": [
      "[1. 1. 1. 1. 1. 1. 1. 1. 1. 1.]\n",
      "[0. 0. 0. 0. 0. 0. 0. 0. 0. 0.]\n"
     ]
    }
   ],
   "source": [
    "# can initialize to zeroes or ones\n",
    "\n",
    "print(np.ones(10))\n",
    "print(np.zeros(10))"
   ]
  },
  {
   "cell_type": "code",
   "execution_count": 310,
   "metadata": {},
   "outputs": [
    {
     "data": {
      "text/plain": [
       "array([0., 0., 0., 0., 0., 0., 0., 0., 0., 0.])"
      ]
     },
     "execution_count": 310,
     "metadata": {},
     "output_type": "execute_result"
    }
   ],
   "source": [
    "# Can also initialize empty matrices using .empty (note, could contain garbage values)\n",
    "\n",
    "np.empty(10)"
   ]
  },
  {
   "cell_type": "code",
   "execution_count": 317,
   "metadata": {},
   "outputs": [
    {
     "name": "stdout",
     "output_type": "stream",
     "text": [
      "[[1. 0. 0.]\n",
      " [0. 1. 0.]\n",
      " [0. 0. 1.]]\n",
      "\n",
      "\n",
      "[[1. 0. 0.]\n",
      " [0. 1. 0.]\n",
      " [0. 0. 1.]]\n"
     ]
    }
   ],
   "source": [
    "# Can also create an identity matrix\n",
    "\n",
    "print(np.eye(3,3))\n",
    "print('\\n')\n",
    "print(np.identity(3))"
   ]
  },
  {
   "cell_type": "markdown",
   "metadata": {},
   "source": [
    "#### NumPy Operations using matrices/ndarrays"
   ]
  },
  {
   "cell_type": "code",
   "execution_count": 327,
   "metadata": {},
   "outputs": [
    {
     "name": "stdout",
     "output_type": "stream",
     "text": [
      "[[1 2 3]\n",
      " [4 5 6]]\n",
      "\n",
      "\n",
      "[[ 2  4  6]\n",
      " [ 8 10 12]]\n",
      "\n",
      "\n"
     ]
    }
   ],
   "source": [
    "arr = np.array([[1,2,3],[4,5,6]])\n",
    "\n",
    "# Basic Array\n",
    "\n",
    "print(arr)\n",
    "print(\"\\n\")\n",
    "\n",
    "# Arithmetic ops apply element-wise (b/n equal size arrays):\n",
    "\n",
    "print(arr + arr)\n",
    "print(\"\\n\")"
   ]
  },
  {
   "cell_type": "code",
   "execution_count": 329,
   "metadata": {},
   "outputs": [
    {
     "name": "stdout",
     "output_type": "stream",
     "text": [
      "[[1 2 3]\n",
      " [4 5 6]]\n",
      "\n",
      "\n",
      "[[ 3  6  9]\n",
      " [12 15 18]]\n"
     ]
    }
   ],
   "source": [
    "# Scalar ops apply to each element in the array\n",
    "\n",
    "arr = np.array([[1,2,3],[4,5,6]])\n",
    "\n",
    "print(arr)\n",
    "print(\"\\n\")\n",
    "\n",
    "print(3* arr)"
   ]
  },
  {
   "cell_type": "code",
   "execution_count": 332,
   "metadata": {},
   "outputs": [
    {
     "data": {
      "text/plain": [
       "array([[ True, False,  True],\n",
       "       [False, False,  True]])"
      ]
     },
     "execution_count": 332,
     "metadata": {},
     "output_type": "execute_result"
    }
   ],
   "source": [
    "# Can evaluate boolean expressions too (element-wise)\n",
    "\n",
    "arr = np.array([[1,2,3],[4,5,6]])\n",
    "\n",
    "arr1 = np.array([[4,1,4],[1,1,10]])\n",
    "\n",
    "arr < arr1"
   ]
  },
  {
   "cell_type": "markdown",
   "metadata": {},
   "source": [
    "#### NumPy Indexing / Slicing"
   ]
  },
  {
   "cell_type": "code",
   "execution_count": 337,
   "metadata": {},
   "outputs": [
    {
     "name": "stdout",
     "output_type": "stream",
     "text": [
      "[0 1 2 3 4 5 6 7 8 9]\n",
      "[5 6 7]\n"
     ]
    }
   ],
   "source": [
    "# Can use the colon to slice an array. Note that it is includes start index value\n",
    "# But it excludes the end\n",
    "\n",
    "arr = np.arange(10)\n",
    "print(arr)\n",
    "print(arr[5:8])"
   ]
  },
  {
   "cell_type": "code",
   "execution_count": 341,
   "metadata": {},
   "outputs": [
    {
     "name": "stdout",
     "output_type": "stream",
     "text": [
      "[    0     1     2     3     4 12345     6     7     8     9]\n",
      "[12345     6     7]\n"
     ]
    }
   ],
   "source": [
    "# Note: indexing in NumPy always returns a view on the ndarray object\n",
    "\n",
    "arr = np.arange(10)\n",
    "\n",
    "arr_slice = arr[5:8]\n",
    "arr_slice[0] = 12345\n",
    "\n",
    "# fifth index in original array should be changed\n",
    "print(arr)\n",
    "print(arr_slice)\n"
   ]
  },
  {
   "cell_type": "code",
   "execution_count": 342,
   "metadata": {},
   "outputs": [
    {
     "name": "stdout",
     "output_type": "stream",
     "text": [
      "[0 1 2 3 4 5 6 7 8 9]\n",
      "[12345     6     7]\n"
     ]
    }
   ],
   "source": [
    "# Must use the copy() method to avoid that behavior\n",
    "\n",
    "arr = np.arange(10)\n",
    "\n",
    "arr_slice = arr[5:8].copy()\n",
    "arr_slice[0] = 12345\n",
    "\n",
    "# Original array is preserved\n",
    "print(arr)\n",
    "print(arr_slice)"
   ]
  },
  {
   "cell_type": "code",
   "execution_count": 345,
   "metadata": {},
   "outputs": [
    {
     "data": {
      "text/plain": [
       "3"
      ]
     },
     "execution_count": 345,
     "metadata": {},
     "output_type": "execute_result"
    }
   ],
   "source": [
    "# Accessing a 2d array (think of the first number as rows and second number as cols)\n",
    "\n",
    "arr2d = np.array([[1,2,3], [4,5,6], [7,8,9]])\n",
    "arr2d[0,2]"
   ]
  },
  {
   "cell_type": "code",
   "execution_count": 346,
   "metadata": {},
   "outputs": [
    {
     "data": {
      "text/plain": [
       "array([[5, 6],\n",
       "       [8, 9]])"
      ]
     },
     "execution_count": 346,
     "metadata": {},
     "output_type": "execute_result"
    }
   ],
   "source": [
    "# Slice a 2d array \n",
    "\n",
    "arr2d = np.array([[1,2,3], [4,5,6], [7,8,9]])\n",
    "arr2d[1:, 1:]"
   ]
  },
  {
   "cell_type": "code",
   "execution_count": 349,
   "metadata": {},
   "outputs": [
    {
     "data": {
      "text/plain": [
       "array([[1, 2, 3],\n",
       "       [4, 5, 6]])"
      ]
     },
     "execution_count": 349,
     "metadata": {},
     "output_type": "execute_result"
    }
   ],
   "source": [
    "#3d arrays: if you omit a dimensional index when selecting, it returns a new ndarray\n",
    "# with all the data from higher dimensions\n",
    "\n",
    "arr3d = np.array([[[1,2,3],[4,5,6]],[[7,8,9], [10,11,12]]])\n",
    "arr3d[0]"
   ]
  },
  {
   "cell_type": "code",
   "execution_count": 354,
   "metadata": {},
   "outputs": [
    {
     "name": "stdout",
     "output_type": "stream",
     "text": [
      "[[[36 36 36]\n",
      "  [36 36 36]]\n",
      "\n",
      " [[ 7  8  9]\n",
      "  [10 11 12]]]\n",
      "\n",
      "\n",
      "[[[ 1  2  3]\n",
      "  [ 4  5  6]]\n",
      "\n",
      " [[ 7  8  9]\n",
      "  [10 11 12]]]\n"
     ]
    }
   ],
   "source": [
    "# Both scalars and vectors can be assigned \n",
    "\n",
    "arr3d = np.array([[[1,2,3],[4,5,6]],[[7,8,9], [10,11,12]]])\n",
    "newNum = 36\n",
    "old_values = arr3d[0].copy()\n",
    "\n",
    "arr3d[0] = newNum\n",
    "print(arr3d)\n",
    "print('\\n')\n",
    "\n",
    "arr3d[0] = old_values\n",
    "print(arr3d)"
   ]
  },
  {
   "cell_type": "markdown",
   "metadata": {},
   "source": [
    "#### Boolean Indexing"
   ]
  },
  {
   "cell_type": "code",
   "execution_count": 368,
   "metadata": {},
   "outputs": [
    {
     "data": {
      "text/plain": [
       "array([ True, False, False,  True, False, False, False])"
      ]
     },
     "execution_count": 368,
     "metadata": {},
     "output_type": "execute_result"
    }
   ],
   "source": [
    "# Important Note: selecting an array by Boolean indexing ALWAYS creates a copy of the data\n",
    "\n",
    "names = np.array(['Bob', 'Joe', 'Will', 'Bob', 'Will', 'Joe', 'Joe'])\n",
    "names == 'Bob'"
   ]
  },
  {
   "cell_type": "code",
   "execution_count": 365,
   "metadata": {},
   "outputs": [
    {
     "name": "stdout",
     "output_type": "stream",
     "text": [
      "[[ 0.99084072 -0.60752412 -0.796238  ]\n",
      " [ 2.72541825 -1.78651605 -0.6950912 ]\n",
      " [-1.09726259 -1.54522844 -0.57216675]\n",
      " [-0.08135472  1.89829076  0.09524627]\n",
      " [-0.2965087   0.98917649 -0.79331886]\n",
      " [-1.94335315  1.87656709 -0.51921007]\n",
      " [ 0.15295558  1.20891556  2.01263155]]\n",
      "\n",
      "\n",
      "[[ 0.99084072 -0.60752412 -0.796238  ]\n",
      " [-0.08135472  1.89829076  0.09524627]]\n"
     ]
    }
   ],
   "source": [
    "# Can pass in the result of a boolean array as a \"mask\" for indexing another array\n",
    "names = np.array(['Bob', 'Joe', 'Will', 'Bob', 'Will', 'Joe', 'Joe'])\n",
    "\n",
    "data = np.random.randn(7,3)\n",
    "print(data)\n",
    "print('\\n')\n",
    "print(data[names == 'Bob'])"
   ]
  },
  {
   "cell_type": "code",
   "execution_count": 366,
   "metadata": {},
   "outputs": [
    {
     "name": "stdout",
     "output_type": "stream",
     "text": [
      "[[-0.9854209   0.54912374  0.29987391]\n",
      " [-0.19152763  1.11921547 -0.53233628]\n",
      " [ 0.20190788  0.04989617  0.06173659]\n",
      " [-1.04175282 -1.32179931  0.21208548]\n",
      " [ 0.48457484 -0.73380653 -0.62347106]\n",
      " [ 0.36791838  0.07333937  1.14508697]\n",
      " [-1.01007257 -0.43941541  0.72437116]]\n",
      "\n",
      "\n",
      "[[-0.19152763  1.11921547 -0.53233628]\n",
      " [ 0.20190788  0.04989617  0.06173659]\n",
      " [ 0.48457484 -0.73380653 -0.62347106]\n",
      " [ 0.36791838  0.07333937  1.14508697]\n",
      " [-1.01007257 -0.43941541  0.72437116]]\n"
     ]
    }
   ],
   "source": [
    "# Can also select everything EXCEPT a certain value by using either != or ~\n",
    "# != for not equal, or ~ to invert the general condition\n",
    "\n",
    "names = np.array(['Bob', 'Joe', 'Will', 'Bob', 'Will', 'Joe', 'Joe'])\n",
    "\n",
    "data = np.random.randn(7,3)\n",
    "print(data)\n",
    "print('\\n')\n",
    "print(data[~(names == 'Bob')])"
   ]
  },
  {
   "cell_type": "code",
   "execution_count": 367,
   "metadata": {},
   "outputs": [
    {
     "name": "stdout",
     "output_type": "stream",
     "text": [
      "[[-0.38197504  0.17667401 -0.19144414]\n",
      " [-1.20548899 -0.08147095  0.46775268]\n",
      " [ 0.88229245  2.06523931 -0.32767379]\n",
      " [-1.28403643 -0.48097696  1.39069072]\n",
      " [-1.53641005 -0.02794774  1.42355056]\n",
      " [-0.35192579  1.01652372  0.6042608 ]\n",
      " [-0.80301198 -1.44056848 -0.65622103]]\n",
      "\n",
      "\n",
      "[[-0.38197504  0.17667401 -0.19144414]\n",
      " [ 0.88229245  2.06523931 -0.32767379]\n",
      " [-1.28403643 -0.48097696  1.39069072]\n",
      " [-1.53641005 -0.02794774  1.42355056]]\n"
     ]
    }
   ],
   "source": [
    "# Can combine multiple boolean conditions \n",
    "\n",
    "mask = (names == 'Bob') | (names == 'Will')\n",
    "\n",
    "data = np.random.randn(7,3)\n",
    "print(data)\n",
    "print('\\n')\n",
    "print(data[mask])"
   ]
  },
  {
   "cell_type": "code",
   "execution_count": 370,
   "metadata": {},
   "outputs": [
    {
     "name": "stdout",
     "output_type": "stream",
     "text": [
      "[[ 0.80358771  0.69535344 -2.75945358]\n",
      " [ 0.91022337 -0.75128288 -0.05847357]\n",
      " [-0.35086914  0.7443502   2.23612539]\n",
      " [-0.55913406 -0.06505146 -1.26442435]\n",
      " [-0.0769116  -0.06932083  1.58886348]\n",
      " [-0.8599373  -0.14004944 -0.76572048]\n",
      " [ 0.25006579  0.13833722 -0.82304148]]\n",
      "\n",
      "\n",
      "[[0.80358771 0.69535344 0.        ]\n",
      " [0.91022337 0.         0.        ]\n",
      " [0.         0.7443502  2.23612539]\n",
      " [0.         0.         0.        ]\n",
      " [0.         0.         1.58886348]\n",
      " [0.         0.         0.        ]\n",
      " [0.25006579 0.13833722 0.        ]]\n"
     ]
    }
   ],
   "source": [
    "# Boolean indexing enables setting values in a common-sense way\n",
    "\n",
    "data = np.random.randn(7,3)\n",
    "\n",
    "print(data)\n",
    "print ('\\n')\n",
    "data[data < 0] = 0\n",
    "print(data)"
   ]
  },
  {
   "cell_type": "code",
   "execution_count": 388,
   "metadata": {},
   "outputs": [
    {
     "name": "stdout",
     "output_type": "stream",
     "text": [
      "[[ 0  1  2  3]\n",
      " [ 4  5  6  7]\n",
      " [ 8  9 10 11]\n",
      " [12 13 14 15]\n",
      " [16 17 18 19]\n",
      " [20 21 22 23]\n",
      " [24 25 26 27]\n",
      " [28 29 30 31]]\n",
      "\n",
      "\n",
      "[[ 4  5  6  7]\n",
      " [ 8  9 10 11]\n",
      " [12 13 14 15]]\n",
      "\n",
      "\n",
      "[[28 29 30 31]\n",
      " [24 25 26 27]\n",
      " [20 21 22 23]]\n",
      "\n",
      "\n",
      "[ 5 10 15]\n"
     ]
    }
   ],
   "source": [
    "# Can also pass in an array as index to access specific rows\n",
    "\n",
    "arr = np.arange(32).reshape(8,4)\n",
    "print(arr)\n",
    "print('\\n')\n",
    "\n",
    "print(arr[[1,2,3]])\n",
    "print('\\n')\n",
    "\n",
    "# Negative indices count backwards\n",
    "\n",
    "print(arr[[-1,-2,-3]])\n",
    "print('\\n')\n",
    "\n",
    "# Can also select specific elements vector-wise by passing in two arrays\n",
    "\n",
    "print(arr[[1,2,3],[1,2,3]])"
   ]
  },
  {
   "cell_type": "code",
   "execution_count": 394,
   "metadata": {},
   "outputs": [
    {
     "name": "stdout",
     "output_type": "stream",
     "text": [
      "[[ 0  1  2  3]\n",
      " [ 4  5  6  7]\n",
      " [ 8  9 10 11]\n",
      " [12 13 14 15]\n",
      " [16 17 18 19]\n",
      " [20 21 22 23]\n",
      " [24 25 26 27]\n",
      " [28 29 30 31]]\n",
      "\n",
      "\n",
      "[[ 0  4  8 12 16 20 24 28]\n",
      " [ 1  5  9 13 17 21 25 29]\n",
      " [ 2  6 10 14 18 22 26 30]\n",
      " [ 3  7 11 15 19 23 27 31]]\n",
      "\n",
      "\n",
      "[[ 0  4  8 12 16 20 24 28]\n",
      " [ 1  5  9 13 17 21 25 29]\n",
      " [ 2  6 10 14 18 22 26 30]\n",
      " [ 3  7 11 15 19 23 27 31]]\n"
     ]
    }
   ],
   "source": [
    "# Transposing matrices\n",
    "\n",
    "arr = np.arange(32).reshape(8,4)\n",
    "\n",
    "print(arr)\n",
    "print('\\n')\n",
    "\n",
    "# Attribute access\n",
    "print(arr.T)\n",
    "print('\\n')\n",
    "\n",
    "# Method access \n",
    "print(arr.transpose())\n"
   ]
  },
  {
   "cell_type": "code",
   "execution_count": 397,
   "metadata": {},
   "outputs": [
    {
     "name": "stdout",
     "output_type": "stream",
     "text": [
      "[[[ 0  1  2  3]\n",
      "  [ 4  5  6  7]]\n",
      "\n",
      " [[ 8  9 10 11]\n",
      "  [12 13 14 15]]]\n",
      "\n",
      "\n",
      "[[[ 0  1  2  3]\n",
      "  [ 8  9 10 11]]\n",
      "\n",
      " [[ 4  5  6  7]\n",
      "  [12 13 14 15]]]\n"
     ]
    }
   ],
   "source": [
    "# For higher dimensional arrays, pass in a tuple of axes to transmute the axes around\n",
    "\n",
    "arr = np.arange(16).reshape(2,2,4)\n",
    "print(arr)\n",
    "print('\\n')\n",
    "\n",
    "# Swap first and second axes and leave third unchanged\n",
    "print(arr.transpose((1, 0, 2)))"
   ]
  },
  {
   "cell_type": "code",
   "execution_count": 400,
   "metadata": {},
   "outputs": [
    {
     "name": "stdout",
     "output_type": "stream",
     "text": [
      "[[[ 0  1  2  3]\n",
      "  [ 4  5  6  7]]\n",
      "\n",
      " [[ 8  9 10 11]\n",
      "  [12 13 14 15]]]\n",
      "\n",
      "\n",
      "[[[ 0  4]\n",
      "  [ 1  5]\n",
      "  [ 2  6]\n",
      "  [ 3  7]]\n",
      "\n",
      " [[ 8 12]\n",
      "  [ 9 13]\n",
      "  [10 14]\n",
      "  [11 15]]]\n"
     ]
    }
   ],
   "source": [
    "# Can also do this by using swapaxes()\n",
    "\n",
    "arr = np.arange(16).reshape(2,2,4)\n",
    "print(arr)\n",
    "print('\\n')\n",
    "\n",
    "# Swap second and third axes and leave first unchanged\n",
    "print(arr.swapaxes(1,2))"
   ]
  },
  {
   "cell_type": "markdown",
   "metadata": {},
   "source": [
    "### Universal Functions"
   ]
  },
  {
   "cell_type": "markdown",
   "metadata": {},
   "source": [
    "#### Vectorized wrappers for simple functions that take scalar values and produce one or more scalar results"
   ]
  },
  {
   "cell_type": "code",
   "execution_count": 416,
   "metadata": {},
   "outputs": [
    {
     "name": "stdout",
     "output_type": "stream",
     "text": [
      "[0.0, 1.0, 1.4142135623730951, 1.7320508075688772, 2.0, 2.23606797749979, 2.449489742783178, 2.6457513110645907, 2.8284271247461903, 3.0]\n",
      "\n",
      "\n",
      "[0.         1.         1.41421356 1.73205081 2.         2.23606798\n",
      " 2.44948974 2.64575131 2.82842712 3.        ]\n"
     ]
    }
   ],
   "source": [
    "import math\n",
    "\n",
    "# Example: square roots\n",
    "\n",
    "# broke\n",
    "arr = list(range(10))\n",
    "for i in arr:\n",
    "    arr[i] = math.sqrt(i)\n",
    "print(arr)\n",
    "print('\\n')\n",
    "\n",
    "# woke\n",
    "arr2 = np.arange(10)\n",
    "print(np.sqrt(arr2))"
   ]
  },
  {
   "cell_type": "code",
   "execution_count": 423,
   "metadata": {},
   "outputs": [
    {
     "name": "stdout",
     "output_type": "stream",
     "text": [
      "[1.00000000e+00 2.71828183e+00 7.38905610e+00 2.00855369e+01\n",
      " 5.45981500e+01 1.48413159e+02 4.03428793e+02 1.09663316e+03\n",
      " 2.98095799e+03 8.10308393e+03]\n",
      "\n",
      "\n",
      "[ 0.58225565  1.1257346  -0.27893688  0.77840517  0.66229671 -0.95171185\n",
      "  0.79958818  0.17165157]\n",
      "[-0.63171973 -0.76051086  0.84807148  0.62406641  0.57395124  0.33416186\n",
      "  0.83924917  0.83837584]\n",
      "\n",
      " Maximum comparing elements pair-wise\n",
      "[0.58225565 1.1257346  0.84807148 0.77840517 0.66229671 0.33416186\n",
      " 0.83924917 0.83837584]\n"
     ]
    }
   ],
   "source": [
    "# Unary univesral function takes one array:\n",
    "\n",
    "arr = np.arange(10)\n",
    "print(np.exp(arr))\n",
    "print('\\n')\n",
    "\n",
    "# Binary universal function take two arrays:\n",
    "\n",
    "x = np.random.randn(8)\n",
    "y = np.random.randn(8)\n",
    "print(x)\n",
    "print(y)\n",
    "print('\\n Maximum comparing elements pair-wise')\n",
    "print(np.maximum(x,y))"
   ]
  },
  {
   "cell_type": "code",
   "execution_count": 426,
   "metadata": {},
   "outputs": [
    {
     "name": "stdout",
     "output_type": "stream",
     "text": [
      "[ 0.80150711  1.26671598 -0.16518253 -0.44732526  0.75077277  0.56723895\n",
      "  0.09823023  0.83160117 -0.02592507  1.5583892 ]\n",
      "\n",
      "\n",
      "[ 0.  1. -0. -0.  0.  0.  0.  0. -0.  1.]\n",
      "[ 0.80150711  0.26671598 -0.16518253 -0.44732526  0.75077277  0.56723895\n",
      "  0.09823023  0.83160117 -0.02592507  0.5583892 ]\n"
     ]
    }
   ],
   "source": [
    "# Some unary functions return multiple arrays, like modf which returns a whole number\n",
    "# and the mantissa separately\n",
    "\n",
    "arr = np.random.randn(10)\n",
    "print(arr)\n",
    "print('\\n')\n",
    "\n",
    "remainder, whole = np.modf(arr)\n",
    "print(whole)\n",
    "print(remainder)\n"
   ]
  },
  {
   "cell_type": "code",
   "execution_count": 429,
   "metadata": {},
   "outputs": [
    {
     "data": {
      "text/plain": [
       "array([4.55174727e-01, 3.93046376e+00, 6.48962120e-02, 3.56051667e+00,\n",
       "       3.50404068e-01, 2.53101898e-01, 1.86756487e-01, 1.68665258e+00,\n",
       "       2.61721727e-01, 4.05655023e-05])"
      ]
     },
     "execution_count": 429,
     "metadata": {},
     "output_type": "execute_result"
    }
   ],
   "source": [
    "# Can also modify the array inplace by passing in the optional \"out\" argument as below\n",
    "\n",
    "arr = np.random.randn(10)\n",
    "np.square(arr, arr)"
   ]
  },
  {
   "cell_type": "code",
   "execution_count": 436,
   "metadata": {},
   "outputs": [
    {
     "data": {
      "text/plain": [
       "array([ 0., -1.,  1.,  0., -1., -0., -0., -1.,  1., -2.])"
      ]
     },
     "execution_count": 436,
     "metadata": {},
     "output_type": "execute_result"
    }
   ],
   "source": [
    "# Couple of other cool ufuncs:\n",
    "\n",
    "## Unary\n",
    "\n",
    "arr = np.random.randn(10)\n",
    "\n",
    "### Absolute Value\n",
    "np.abs(arr)\n",
    "\n",
    "### Sign\n",
    "np.sign(arr)\n",
    "\n",
    "### Ceiling/Floor\n",
    "np.ceil(arr)\n",
    "np.floor(arr)\n",
    "\n",
    "### Round to nearest integer, preserving dtype\n",
    "np.rint(arr)"
   ]
  },
  {
   "cell_type": "code",
   "execution_count": 441,
   "metadata": {},
   "outputs": [
    {
     "name": "stderr",
     "output_type": "stream",
     "text": [
      "/Users/alex/anaconda3/lib/python3.6/site-packages/ipykernel_launcher.py:13: RuntimeWarning: invalid value encountered in power\n",
      "  del sys.path[0]\n",
      "/Users/alex/anaconda3/lib/python3.6/site-packages/ipykernel_launcher.py:16: RuntimeWarning: invalid value encountered in power\n",
      "  app.launch_new_instance()\n"
     ]
    },
    {
     "data": {
      "text/plain": [
       "array([-0.61722456,  1.974543  , -0.69686473,  1.52165657, -1.59158564,\n",
       "        0.9231509 ,  1.25615265, -1.07470089, -1.13655436,  0.16628311])"
      ]
     },
     "execution_count": 441,
     "metadata": {},
     "output_type": "execute_result"
    }
   ],
   "source": [
    "## Binary\n",
    "\n",
    "x = np.random.randn(10)\n",
    "y = np.random.randn(10)\n",
    "\n",
    "### All normal ops\n",
    "np.add(x,y)\n",
    "\n",
    "### Floor divide truncates remainder\n",
    "np.floor_divide(x,y)\n",
    "\n",
    "### Raise elements in first array to power in second array\n",
    "np.power(x,y)\n",
    "\n",
    "### Find maximum ignoring nans\n",
    "np.fmax(np.power(x,y), x)\n",
    "\n",
    "### Copy sign from first to second array\n",
    "np.copysign(x,y)"
   ]
  },
  {
   "cell_type": "markdown",
   "metadata": {},
   "source": [
    "## Array Oriented Programming with Arrays"
   ]
  },
  {
   "cell_type": "code",
   "execution_count": 442,
   "metadata": {},
   "outputs": [],
   "source": [
    "# Can express many kinds of data processing tasks that would otherwise require writing loops\n",
    "# This is also known as vectorization\n",
    "# These can be 1 to 2 orders of magnitude faster than their Python loop equivalents"
   ]
  },
  {
   "cell_type": "code",
   "execution_count": 453,
   "metadata": {},
   "outputs": [
    {
     "data": {
      "text/plain": [
       "Text(0.5, 1.0, 'Image plot of $\\\\sqrt{x^2 + y^2}$ for a grid of values')"
      ]
     },
     "execution_count": 453,
     "metadata": {},
     "output_type": "execute_result"
    },
    {
     "data": {
      "image/png": "[encoded data removed]",
      "text/plain": [
       "<Figure size 432x288 with 2 Axes>"
      ]
     },
     "metadata": {
      "needs_background": "light"
     },
     "output_type": "display_data"
    }
   ],
   "source": [
    "# Initializes points between -5 and 5 that are 0.01 unit apart\n",
    "\n",
    "points = np.arange(-5, 5, 0.01)\n",
    "\n",
    "# Meshgrid - takes two 1d Arrays and produces 2d matrices\n",
    "\n",
    "xs, ys = np.meshgrid(points,points)\n",
    "\n",
    "z = np.sqrt(xs ** 2 + ys ** 2)\n",
    "\n",
    "import matplotlib.pyplot as plt\n",
    "\n",
    "plt.imshow(z, cmap = plt.cm.gray); plt.colorbar()\n",
    "plt.title(\"Image plot of $\\sqrt{x^2 + y^2}$ for a grid of values\")"
   ]
  },
  {
   "cell_type": "code",
   "execution_count": 459,
   "metadata": {},
   "outputs": [
    {
     "name": "stdout",
     "output_type": "stream",
     "text": [
      "[1.1, 2.2, 1.3]\n"
     ]
    },
    {
     "data": {
      "text/plain": [
       "array([1.1, 2.2, 1.3])"
      ]
     },
     "execution_count": 459,
     "metadata": {},
     "output_type": "execute_result"
    }
   ],
   "source": [
    "# np.where does vectorized boolean logic. It's a vectorized version of the ternary operator\n",
    "\n",
    "xarr = np.array([1.1, 1.2, 1.3])\n",
    "yarr = np.array([2.1, 2.2, 2.3])\n",
    "cond = np.array([True, False, True])\n",
    "\n",
    "# broke: regular Python way using list comprehension\n",
    "\n",
    "result = [(x if c else y) for x, y, c in zip(xarr, yarr, cond)]\n",
    "print(result)\n",
    "\n",
    "# woke: np.where\n",
    "\n",
    "np.where(cond, xarr, yarr)"
   ]
  },
  {
   "cell_type": "code",
   "execution_count": 464,
   "metadata": {},
   "outputs": [
    {
     "name": "stdout",
     "output_type": "stream",
     "text": [
      "[[ 1.40987192  0.68733141  0.75501079 -1.65651347]\n",
      " [-0.46524745 -1.77793664 -1.17864626 -0.45193812]\n",
      " [-0.18595984  0.00833783 -0.05003701 -0.99620563]\n",
      " [ 1.49200878 -0.98974185 -0.62553018 -1.03226487]]\n"
     ]
    },
    {
     "data": {
      "text/plain": [
       "array([[ 1,  1,  1, -1],\n",
       "       [-1, -1, -1, -1],\n",
       "       [-1,  1, -1, -1],\n",
       "       [ 1, -1, -1, -1]])"
      ]
     },
     "execution_count": 464,
     "metadata": {},
     "output_type": "execute_result"
    }
   ],
   "source": [
    "# Can also set the conditionals as scalars instead of arrays as above\n",
    "# Common use is to create an array of binary values based on another integer/float array\n",
    "\n",
    "arr = np.random.randn(4, 4)\n",
    "print(arr)\n",
    "\n",
    "np.where(arr > 0, 1, -1)"
   ]
  },
  {
   "cell_type": "code",
   "execution_count": 478,
   "metadata": {},
   "outputs": [
    {
     "name": "stdout",
     "output_type": "stream",
     "text": [
      "[[ 1.40840714  0.72491136 -0.20374717  0.3928166 ]\n",
      " [-0.95348087  1.57643703  0.40340016  0.50173684]\n",
      " [ 1.39495501  1.65936494  0.18022209  0.52211958]\n",
      " [-0.16329449  0.63772934 -0.80258272  1.31262021]\n",
      " [ 0.3326436   0.88760157 -0.19515831  0.1206176 ]]\n"
     ]
    },
    {
     "data": {
      "text/plain": [
       "0.48686597588068825"
      ]
     },
     "execution_count": 478,
     "metadata": {},
     "output_type": "execute_result"
    }
   ],
   "source": [
    "# Can do all the standard statistical tests\n",
    "arr = np.random.randn(5,4)\n",
    "print(arr)\n",
    "\n",
    "arr.mean()\n",
    "# np.mean(arr)\n",
    "# arr.sum()"
   ]
  },
  {
   "cell_type": "code",
   "execution_count": 480,
   "metadata": {},
   "outputs": [
    {
     "name": "stdout",
     "output_type": "stream",
     "text": [
      "[[-0.26616366  0.57308777  0.74376568 -0.5056623 ]\n",
      " [-0.45532209 -0.56554769 -0.57347874 -1.25830791]\n",
      " [ 0.23610929  0.24193038  0.20073686  1.89286385]\n",
      " [-0.85044037 -1.07509992 -1.13344462 -0.18286248]\n",
      " [-0.70400752 -0.20288379  0.90647705 -1.16373408]]\n",
      "\n",
      "\n",
      "[ 0.13625687 -0.71316411  0.64291009 -0.81046185 -0.29103708]\n"
     ]
    },
    {
     "data": {
      "text/plain": [
       "array([-2.03982434, -1.02851325,  0.14405622, -1.21770292])"
      ]
     },
     "execution_count": 480,
     "metadata": {},
     "output_type": "execute_result"
    }
   ],
   "source": [
    "# Can also pass an axis arg into statistical functions like sum, mean\n",
    "# Axis = 0 means across rows (horizontal) and 1 means down columns (vertical)\n",
    "\n",
    "arr = np.random.randn(5,4)\n",
    "print(arr)\n",
    "print('\\n')\n",
    "\n",
    "print(arr.mean(axis=1))\n",
    "arr.sum(axis=0)\n"
   ]
  },
  {
   "cell_type": "code",
   "execution_count": 484,
   "metadata": {},
   "outputs": [
    {
     "name": "stdout",
     "output_type": "stream",
     "text": [
      "[[ 0.99603643 -0.46492987  0.87614097  0.83300153]\n",
      " [ 0.15518213 -1.17649808 -1.00257835 -0.01400168]\n",
      " [ 0.42504422  0.23781501 -0.85399174 -1.85706446]\n",
      " [ 1.30760394 -0.97932215 -0.75783393  0.59829109]\n",
      " [-0.64713565  1.66900022 -0.59858836  0.37071977]]\n",
      "\n",
      "\n",
      "0.9154457441523044\n",
      "\n",
      "\n",
      "0.8380409104865663\n",
      "\n",
      "\n",
      "[1 1 3 1 0]\n",
      "\n",
      "\n",
      "[[ 0.99603643 -0.46492987  0.87614097  0.83300153]\n",
      " [ 0.15456705  0.54698909 -0.87839997 -0.01166342]\n",
      " [ 0.06569783  0.13008222  0.75014632  0.02165973]\n",
      " [ 0.08590674 -0.1273924  -0.56848633  0.01295882]\n",
      " [-0.05559332 -0.21261794  0.3402893   0.00480409]]\n",
      "\n",
      "\n"
     ]
    }
   ],
   "source": [
    "# More fun statistical methods\n",
    "\n",
    "arr = np.random.randn(5,4)\n",
    "\n",
    "print(arr)\n",
    "print('\\n')\n",
    "\n",
    "# Standard dev\n",
    "print(arr.std())\n",
    "print('\\n')\n",
    "\n",
    "# Variance\n",
    "print(arr.var())\n",
    "print('\\n')\n",
    "\n",
    "# index of minimum element\n",
    "print(arr.argmin(axis=1))\n",
    "print('\\n')\n",
    "\n",
    "# Cumulative product elements starting from one\n",
    "print(arr.cumprod(axis=0))\n",
    "print('\\n')"
   ]
  },
  {
   "cell_type": "code",
   "execution_count": 486,
   "metadata": {},
   "outputs": [
    {
     "data": {
      "text/plain": [
       "False"
      ]
     },
     "execution_count": 486,
     "metadata": {},
     "output_type": "execute_result"
    }
   ],
   "source": [
    "# Also can use any and all methods which are useful for boolean arrays\n",
    "# any: if a single element returns true then true\n",
    "# all: all elements must be true else false\n",
    "\n",
    "bools = np.array([False, False, True, False])\n",
    "bools.any()\n",
    "# bools.all()"
   ]
  },
  {
   "cell_type": "code",
   "execution_count": null,
   "metadata": {},
   "outputs": [],
   "source": []
  }
 ],
 "metadata": {
  "kernelspec": {
   "display_name": "Python 3",
   "language": "python",
   "name": "python3"
  },
  "language_info": {
   "codemirror_mode": {
    "name": "ipython",
    "version": 3
   },
   "file_extension": ".py",
   "mimetype": "text/x-python",
   "name": "python",
   "nbconvert_exporter": "python",
   "pygments_lexer": "ipython3",
   "version": "3.6.10"
  }
 },
 "nbformat": 4,
 "nbformat_minor": 4
}
